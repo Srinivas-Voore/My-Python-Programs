{
 "cells": [
  {
   "cell_type": "code",
   "execution_count": 8,
   "metadata": {},
   "outputs": [
    {
     "name": "stdout",
     "output_type": "stream",
     "text": [
      "   id  age name  clg\n",
      "0   1   28  abc  klu\n",
      "1   1   29  abc  klu\n",
      "2   1   30  abc  klu\n",
      "3   1   31  abc  klu\n"
     ]
    }
   ],
   "source": [
    "s=[(1,28,'abc','klu'),\n",
    "  (1,29,'abc','klu'),\n",
    "  (1,30,'abc','klu'),\n",
    "  (1,31,'abc','klu')]\n",
    "import pandas as pd;\n",
    "c=pd.DataFrame(s,columns=['id','age','name','clg'])\n",
    "print(c)"
   ]
  },
  {
   "cell_type": "code",
   "execution_count": 9,
   "metadata": {},
   "outputs": [
    {
     "name": "stdout",
     "output_type": "stream",
     "text": [
      "  name  age  id\n",
      "0  abc   28   1\n",
      "1  bca   29   2\n",
      "2  cab   30   3\n"
     ]
    }
   ],
   "source": [
    "s={'name':['abc','bca','cab'],\n",
    "   'age':[28,29,30],\n",
    "   'id':[1,2,3],\n",
    "}\n",
    "import pandas as pd;\n",
    "c=pd.DataFrame(s);\n",
    "print(c);\n"
   ]
  },
  {
   "cell_type": "code",
   "execution_count": 29,
   "metadata": {},
   "outputs": [
    {
     "name": "stdout",
     "output_type": "stream",
     "text": [
      "[[1 28 'abc']\n",
      " [1 29 'abc']\n",
      " [1 30 'abc']\n",
      " [1 31 'abc']]\n",
      "[1 29 'abc' 'srm']\n",
      "[1 29]\n",
      "0    klu\n",
      "1    srm\n",
      "2    vit\n",
      "3    iit\n",
      "Name: clg, dtype: object\n"
     ]
    }
   ],
   "source": [
    "s=[(1,28,'abc','klu'),\n",
    "  (1,29,'abc','srm'),\n",
    "  (1,30,'abc','vit'),\n",
    "  (1,31,'abc','iit')]\n",
    "import pandas as pd;\n",
    "c=pd.DataFrame(s,columns=['id','age','name','clg'])\n",
    "a=c.iloc[:,:-1].values;\n",
    "b=c.iloc[:,2:3].values;\n",
    "x=c.iloc[1,:].values;\n",
    "y=c.iloc[1,:2].values;\n",
    "z=c.iloc[:,3];\n",
    "print(a);\n",
    "print(x);\n",
    "print(y);\n",
    "print(z);"
   ]
  },
  {
   "cell_type": "code",
   "execution_count": 32,
   "metadata": {},
   "outputs": [
    {
     "name": "stdout",
     "output_type": "stream",
     "text": [
      "29.5\n",
      "        id        age\n",
      "count  4.0   4.000000\n",
      "mean   1.0  29.500000\n",
      "std    0.0   1.290994\n",
      "min    1.0  28.000000\n",
      "25%    1.0  28.750000\n",
      "50%    1.0  29.500000\n",
      "75%    1.0  30.250000\n",
      "max    1.0  31.000000\n",
      "   id  age name  clg\n",
      "2   1   30  abc  vit\n",
      "3   1   31  abc  iit\n"
     ]
    }
   ],
   "source": [
    "s=[(1,28,'abc','klu'),\n",
    "  (1,29,'abc','srm'),\n",
    "  (1,30,'abc','vit'),\n",
    "  (1,31,'abc','iit')]\n",
    "import pandas as pd;\n",
    "c=pd.DataFrame(s,columns=['id','age','name','clg'])\n",
    "d=c['age'].mean()\n",
    "e=c.describe()\n",
    "f=c[c['age']>=30]\n",
    "print(d)\n",
    "print(e)\n",
    "print(f)"
   ]
  },
  {
   "cell_type": "code",
   "execution_count": 49,
   "metadata": {},
   "outputs": [
    {
     "name": "stdout",
     "output_type": "stream",
     "text": [
      "    Salary Purchased\n",
      "0  72000.0        No\n",
      "1  48000.0       Yes\n",
      "2  54000.0        No\n",
      "3  61000.0        No\n",
      "4      NaN       Yes\n",
      "5  58000.0       Yes\n",
      "6  52000.0        No\n",
      "7  79000.0       Yes\n",
      "8  83000.0       NaN\n",
      "9  67000.0       Yes\n",
      "   Country    Age  Salary  Purchased\n",
      "0    False  False   False      False\n",
      "1    False  False   False      False\n",
      "2    False  False   False      False\n",
      "3    False  False   False      False\n",
      "4    False  False    True      False\n",
      "5    False  False   False      False\n",
      "6    False   True   False      False\n",
      "7    False  False   False      False\n",
      "8    False  False   False       True\n",
      "9    False  False   False      False\n"
     ]
    }
   ],
   "source": [
    "#running .csv using pandas\n",
    "import pandas as pd\n",
    "c=pd.read_csv('Data.csv')\n",
    "d=pd.DataFrame(c);\n",
    "a=d.iloc[:,2:];\n",
    "print(a)\n",
    "e=c.isna()\n",
    "print(e)"
   ]
  },
  {
   "cell_type": "code",
   "execution_count": null,
   "metadata": {},
   "outputs": [],
   "source": []
  },
  {
   "cell_type": "code",
   "execution_count": null,
   "metadata": {},
   "outputs": [],
   "source": []
  }
 ],
 "metadata": {
  "kernelspec": {
   "display_name": "Python 3",
   "language": "python",
   "name": "python3"
  },
  "language_info": {
   "codemirror_mode": {
    "name": "ipython",
    "version": 3
   },
   "file_extension": ".py",
   "mimetype": "text/x-python",
   "name": "python",
   "nbconvert_exporter": "python",
   "pygments_lexer": "ipython3",
   "version": "3.7.3"
  }
 },
 "nbformat": 4,
 "nbformat_minor": 2
}
