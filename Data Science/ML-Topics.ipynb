{
 "cells": [
  {
   "cell_type": "markdown",
   "metadata": {},
   "source": [
    "#Supervised\n",
    "#UnSupervised\n",
    "#Reinforcement"
   ]
  },
  {
   "cell_type": "markdown",
   "metadata": {},
   "source": [
    "#Supervised\n",
    "\n",
    "*classification(enti)\n",
    "  .binary\n",
    "  .multiclass  \n",
    "*regression(entha)"
   ]
  },
  {
   "cell_type": "markdown",
   "metadata": {},
   "source": [
    "#UnSupervised\n",
    "\n",
    "*Clustering(features division).\n",
    "\n",
    "*Association(combining and giving)"
   ]
  },
  {
   "cell_type": "markdown",
   "metadata": {},
   "source": [
    "*Classification Algorithms(Training Techniques)\n",
    "\n",
    "1)Decision tree\n",
    "2)Random Forest\n",
    "3)Naive=Baye's\n",
    "4)Support Vector Machine(svm)\n",
    "5)KNearest Neighbours\n",
    "6)Logic Regression\n",
    "\n"
   ]
  },
  {
   "cell_type": "code",
   "execution_count": null,
   "metadata": {},
   "outputs": [],
   "source": []
  },
  {
   "cell_type": "code",
   "execution_count": null,
   "metadata": {},
   "outputs": [],
   "source": []
  }
 ],
 "metadata": {
  "kernelspec": {
   "display_name": "Python 3",
   "language": "python",
   "name": "python3"
  },
  "language_info": {
   "codemirror_mode": {
    "name": "ipython",
    "version": 3
   },
   "file_extension": ".py",
   "mimetype": "text/x-python",
   "name": "python",
   "nbconvert_exporter": "python",
   "pygments_lexer": "ipython3",
   "version": "3.7.3"
  }
 },
 "nbformat": 4,
 "nbformat_minor": 2
}
