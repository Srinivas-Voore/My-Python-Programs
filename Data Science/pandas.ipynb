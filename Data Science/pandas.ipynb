{
 "cells": [
  {
   "cell_type": "code",
   "execution_count": 4,
   "metadata": {},
   "outputs": [],
   "source": [
    "#pandas\n",
    "#panel data analysis\n",
    "#1d=>Seriesobject\n",
    "#2d=>dataframe\n",
    "import pandas as pd"
   ]
  },
  {
   "cell_type": "code",
   "execution_count": 5,
   "metadata": {},
   "outputs": [
    {
     "output_type": "execute_result",
     "data": {
      "text/plain": "0    1\n1    2\n2    3\ndtype: object"
     },
     "metadata": {},
     "execution_count": 5
    }
   ],
   "source": [
    "data=[1,2,3,4,'s']\n",
    "s1=pd.Series(data)\n",
    "s1[0:3]"
   ]
  },
  {
   "cell_type": "code",
   "execution_count": 6,
   "metadata": {},
   "outputs": [
    {
     "output_type": "execute_result",
     "data": {
      "text/plain": "pandas.core.series.Series"
     },
     "metadata": {},
     "execution_count": 6
    }
   ],
   "source": [
    "type(s1)"
   ]
  },
  {
   "cell_type": "code",
   "execution_count": 7,
   "metadata": {},
   "outputs": [
    {
     "output_type": "execute_result",
     "data": {
      "text/plain": "a    1\nb    2\n1    c\nd    4\ndtype: object"
     },
     "metadata": {},
     "execution_count": 7
    }
   ],
   "source": [
    "#changing index names\n",
    "s1=pd.Series([1,2,'c',4],index=['a','b',1,'d'])\n",
    "s1['a':'d']\n"
   ]
  },
  {
   "cell_type": "code",
   "execution_count": 8,
   "metadata": {},
   "outputs": [],
   "source": [
    "#dictionary,array,scalar"
   ]
  },
  {
   "cell_type": "code",
   "execution_count": 9,
   "metadata": {},
   "outputs": [
    {
     "output_type": "execute_result",
     "data": {
      "text/plain": "   0  1  2    3\n0  1  2  3  4.0\n1  1  2  3  NaN",
      "text/html": "<div>\n<style scoped>\n    .dataframe tbody tr th:only-of-type {\n        vertical-align: middle;\n    }\n\n    .dataframe tbody tr th {\n        vertical-align: top;\n    }\n\n    .dataframe thead th {\n        text-align: right;\n    }\n</style>\n<table border=\"1\" class=\"dataframe\">\n  <thead>\n    <tr style=\"text-align: right;\">\n      <th></th>\n      <th>0</th>\n      <th>1</th>\n      <th>2</th>\n      <th>3</th>\n    </tr>\n  </thead>\n  <tbody>\n    <tr>\n      <th>0</th>\n      <td>1</td>\n      <td>2</td>\n      <td>3</td>\n      <td>4.0</td>\n    </tr>\n    <tr>\n      <th>1</th>\n      <td>1</td>\n      <td>2</td>\n      <td>3</td>\n      <td>NaN</td>\n    </tr>\n  </tbody>\n</table>\n</div>"
     },
     "metadata": {},
     "execution_count": 9
    }
   ],
   "source": [
    "#2d=>dataframe \n",
    "#colums can be of different datatypes\n",
    "#axis=0=>columns\n",
    "#axis=1=>rows\n",
    "#array to df\n",
    "data1=[[1,2,3,4],[1,2,3]]\n",
    "df=pd.DataFrame(data1)\n",
    "df"
   ]
  },
  {
   "cell_type": "code",
   "execution_count": 10,
   "metadata": {},
   "outputs": [
    {
     "output_type": "execute_result",
     "data": {
      "text/plain": "   a  b\n0  1  2\n1  2  3\n2  3  4\n3  4  5",
      "text/html": "<div>\n<style scoped>\n    .dataframe tbody tr th:only-of-type {\n        vertical-align: middle;\n    }\n\n    .dataframe tbody tr th {\n        vertical-align: top;\n    }\n\n    .dataframe thead th {\n        text-align: right;\n    }\n</style>\n<table border=\"1\" class=\"dataframe\">\n  <thead>\n    <tr style=\"text-align: right;\">\n      <th></th>\n      <th>a</th>\n      <th>b</th>\n    </tr>\n  </thead>\n  <tbody>\n    <tr>\n      <th>0</th>\n      <td>1</td>\n      <td>2</td>\n    </tr>\n    <tr>\n      <th>1</th>\n      <td>2</td>\n      <td>3</td>\n    </tr>\n    <tr>\n      <th>2</th>\n      <td>3</td>\n      <td>4</td>\n    </tr>\n    <tr>\n      <th>3</th>\n      <td>4</td>\n      <td>5</td>\n    </tr>\n  </tbody>\n</table>\n</div>"
     },
     "metadata": {},
     "execution_count": 10
    }
   ],
   "source": [
    "#creating a df from a dictionary\n",
    "data2={'a':[1,2,3,4],'b':[2,3,4,5]}\n",
    "df=pd.DataFrame(data2)\n",
    "df"
   ]
  },
  {
   "cell_type": "code",
   "execution_count": 11,
   "metadata": {},
   "outputs": [
    {
     "output_type": "execute_result",
     "data": {
      "text/plain": "    fruit  count\n0   apple      2\n1  banana     10\n2   mango     15",
      "text/html": "<div>\n<style scoped>\n    .dataframe tbody tr th:only-of-type {\n        vertical-align: middle;\n    }\n\n    .dataframe tbody tr th {\n        vertical-align: top;\n    }\n\n    .dataframe thead th {\n        text-align: right;\n    }\n</style>\n<table border=\"1\" class=\"dataframe\">\n  <thead>\n    <tr style=\"text-align: right;\">\n      <th></th>\n      <th>fruit</th>\n      <th>count</th>\n    </tr>\n  </thead>\n  <tbody>\n    <tr>\n      <th>0</th>\n      <td>apple</td>\n      <td>2</td>\n    </tr>\n    <tr>\n      <th>1</th>\n      <td>banana</td>\n      <td>10</td>\n    </tr>\n    <tr>\n      <th>2</th>\n      <td>mango</td>\n      <td>15</td>\n    </tr>\n  </tbody>\n</table>\n</div>"
     },
     "metadata": {},
     "execution_count": 11
    }
   ],
   "source": [
    "dict1={'fruit':['apple','banana','mango'],'count':[2,10,15]}\n",
    "df=pd.DataFrame(dict1)\n",
    "df"
   ]
  },
  {
   "cell_type": "code",
   "execution_count": 12,
   "metadata": {},
   "outputs": [
    {
     "output_type": "execute_result",
     "data": {
      "text/plain": "    0\na   6\nb  12",
      "text/html": "<div>\n<style scoped>\n    .dataframe tbody tr th:only-of-type {\n        vertical-align: middle;\n    }\n\n    .dataframe tbody tr th {\n        vertical-align: top;\n    }\n\n    .dataframe thead th {\n        text-align: right;\n    }\n</style>\n<table border=\"1\" class=\"dataframe\">\n  <thead>\n    <tr style=\"text-align: right;\">\n      <th></th>\n      <th>0</th>\n    </tr>\n  </thead>\n  <tbody>\n    <tr>\n      <th>a</th>\n      <td>6</td>\n    </tr>\n    <tr>\n      <th>b</th>\n      <td>12</td>\n    </tr>\n  </tbody>\n</table>\n</div>"
     },
     "metadata": {},
     "execution_count": 12
    }
   ],
   "source": [
    "#series to df=>1d=>2d\n",
    "data=pd.Series([6,12],index=['a','b'])\n",
    "df=pd.DataFrame(data)\n",
    "df"
   ]
  },
  {
   "cell_type": "code",
   "execution_count": 13,
   "metadata": {},
   "outputs": [
    {
     "output_type": "execute_result",
     "data": {
      "text/plain": "   A   B\n0  a   b\n1  6  12",
      "text/html": "<div>\n<style scoped>\n    .dataframe tbody tr th:only-of-type {\n        vertical-align: middle;\n    }\n\n    .dataframe tbody tr th {\n        vertical-align: top;\n    }\n\n    .dataframe thead th {\n        text-align: right;\n    }\n</style>\n<table border=\"1\" class=\"dataframe\">\n  <thead>\n    <tr style=\"text-align: right;\">\n      <th></th>\n      <th>A</th>\n      <th>B</th>\n    </tr>\n  </thead>\n  <tbody>\n    <tr>\n      <th>0</th>\n      <td>a</td>\n      <td>b</td>\n    </tr>\n    <tr>\n      <th>1</th>\n      <td>6</td>\n      <td>12</td>\n    </tr>\n  </tbody>\n</table>\n</div>"
     },
     "metadata": {},
     "execution_count": 13
    }
   ],
   "source": [
    "#numpy to df\n",
    "import numpy as np\n",
    "data=np.array([['a','b'],[6,12]])\n",
    "df=pd.DataFrame({'A':data[:,0],'B':data[:,1]})\n",
    "df"
   ]
  },
  {
   "cell_type": "code",
   "execution_count": 14,
   "metadata": {},
   "outputs": [
    {
     "output_type": "execute_result",
     "data": {
      "text/plain": "    S.No           Unnamed: 1   mpg  cyl   disp   hp  drat     wt   qsec  vs  \\\n0      1            Mazda RX4  21.0    6  160.0  110  3.90  2.620  16.46   0   \n1      2        Mazda RX4 Wag  21.0    6  160.0  110  3.90  2.875  17.02   0   \n2      3           Datsun 710  22.8    4  108.0   93  3.85  2.320  18.61   1   \n3      4       Hornet 4 Drive  21.4    6  258.0  110  3.08  3.215  19.44   1   \n4      5    Hornet Sportabout  18.7    8  360.0  175  3.15  3.440  17.02   0   \n5      6              Valiant  18.1    6  225.0  105  2.76  3.460  20.22   1   \n6      7           Duster 360  14.3    8  360.0  245  3.21  3.570  15.84   0   \n7      8            Merc 240D  24.4    4  146.7   62  3.69  3.190  20.00   1   \n8      9             Merc 230  22.8    4  140.8   95  3.92  3.150  22.90   1   \n9     10             Merc 280  19.2    6  167.6  123  3.92  3.440  18.30   1   \n10    11            Merc 280C  17.8    6  167.6  123  3.92  3.440  18.90   1   \n11    12           Merc 450SE  16.4    8  275.8  180  3.07  4.070  17.40   0   \n12    13           Merc 450SL  17.3    8  275.8  180  3.07  3.730  17.60   0   \n13    14          Merc 450SLC  15.2    8  275.8  180  3.07  3.780  18.00   0   \n14    15   Cadillac Fleetwood  10.4    8  472.0  205  2.93  5.250  17.98   0   \n15    16  Lincoln Continental  10.4    8  460.0  215  3.00  5.424  17.82   0   \n16    17    Chrysler Imperial  14.7    8  440.0  230  3.23  5.345  17.42   0   \n17    18             Fiat 128  32.4    4   78.7   66  4.08  2.200  19.47   1   \n18    19          Honda Civic  30.4    4   75.7   52  4.93  1.615  18.52   1   \n19    20       Toyota Corolla  33.9    4   71.1   65  4.22  1.835  19.90   1   \n20    21        Toyota Corona  21.5    4  120.1   97  3.70  2.465  20.01   1   \n21    22     Dodge Challenger  15.5    8  318.0  150  2.76  3.520  16.87   0   \n22    23          AMC Javelin  15.2    8  304.0  150  3.15  3.435  17.30   0   \n23    24           Camaro Z28  13.3    8  350.0  245  3.73  3.840  15.41   0   \n24    25     Pontiac Firebird  19.2    8  400.0  175  3.08  3.845  17.05   0   \n25    26            Fiat X1-9  27.3    4   79.0   66  4.08  1.935  18.90   1   \n26    27        Porsche 914-2  26.0    4  120.3   91  4.43  2.140  16.70   0   \n27    28         Lotus Europa  30.4    4   95.1  113   NaN  1.513  16.90   1   \n28    29       Ford Pantera L  15.8    8  351.0  264  4.22  3.170  14.50   0   \n29    30         Ferrari Dino  19.7    6  145.0  175  3.62  2.770  15.50   0   \n30    31        Maserati Bora  15.0    8  301.0  335  3.54  3.570  14.60   0   \n31    32           Volvo 142E  21.4    4  121.0  109  4.11  2.780  18.60   1   \n\n    am  gear  carb  \n0    1     4     4  \n1    1     4     4  \n2    1     4     1  \n3    0     3     1  \n4    0     3     2  \n5    0     3     1  \n6    0     3     4  \n7    0     4     2  \n8    0     4     2  \n9    0     4     4  \n10   0     4     4  \n11   0     3     3  \n12   0     3     3  \n13   0     3     3  \n14   0     3     4  \n15   0     3     4  \n16   0     3     4  \n17   1     4     1  \n18   1     4     2  \n19   1     4     1  \n20   0     3     1  \n21   0     3     2  \n22   0     3     2  \n23   0     3     4  \n24   0     3     2  \n25   1     4     1  \n26   1     5     2  \n27   1     5     2  \n28   1     5     4  \n29   1     5     6  \n30   1     5     8  \n31   1     4     2  ",
      "text/html": "<div>\n<style scoped>\n    .dataframe tbody tr th:only-of-type {\n        vertical-align: middle;\n    }\n\n    .dataframe tbody tr th {\n        vertical-align: top;\n    }\n\n    .dataframe thead th {\n        text-align: right;\n    }\n</style>\n<table border=\"1\" class=\"dataframe\">\n  <thead>\n    <tr style=\"text-align: right;\">\n      <th></th>\n      <th>S.No</th>\n      <th>Unnamed: 1</th>\n      <th>mpg</th>\n      <th>cyl</th>\n      <th>disp</th>\n      <th>hp</th>\n      <th>drat</th>\n      <th>wt</th>\n      <th>qsec</th>\n      <th>vs</th>\n      <th>am</th>\n      <th>gear</th>\n      <th>carb</th>\n    </tr>\n  </thead>\n  <tbody>\n    <tr>\n      <th>0</th>\n      <td>1</td>\n      <td>Mazda RX4</td>\n      <td>21.0</td>\n      <td>6</td>\n      <td>160.0</td>\n      <td>110</td>\n      <td>3.90</td>\n      <td>2.620</td>\n      <td>16.46</td>\n      <td>0</td>\n      <td>1</td>\n      <td>4</td>\n      <td>4</td>\n    </tr>\n    <tr>\n      <th>1</th>\n      <td>2</td>\n      <td>Mazda RX4 Wag</td>\n      <td>21.0</td>\n      <td>6</td>\n      <td>160.0</td>\n      <td>110</td>\n      <td>3.90</td>\n      <td>2.875</td>\n      <td>17.02</td>\n      <td>0</td>\n      <td>1</td>\n      <td>4</td>\n      <td>4</td>\n    </tr>\n    <tr>\n      <th>2</th>\n      <td>3</td>\n      <td>Datsun 710</td>\n      <td>22.8</td>\n      <td>4</td>\n      <td>108.0</td>\n      <td>93</td>\n      <td>3.85</td>\n      <td>2.320</td>\n      <td>18.61</td>\n      <td>1</td>\n      <td>1</td>\n      <td>4</td>\n      <td>1</td>\n    </tr>\n    <tr>\n      <th>3</th>\n      <td>4</td>\n      <td>Hornet 4 Drive</td>\n      <td>21.4</td>\n      <td>6</td>\n      <td>258.0</td>\n      <td>110</td>\n      <td>3.08</td>\n      <td>3.215</td>\n      <td>19.44</td>\n      <td>1</td>\n      <td>0</td>\n      <td>3</td>\n      <td>1</td>\n    </tr>\n    <tr>\n      <th>4</th>\n      <td>5</td>\n      <td>Hornet Sportabout</td>\n      <td>18.7</td>\n      <td>8</td>\n      <td>360.0</td>\n      <td>175</td>\n      <td>3.15</td>\n      <td>3.440</td>\n      <td>17.02</td>\n      <td>0</td>\n      <td>0</td>\n      <td>3</td>\n      <td>2</td>\n    </tr>\n    <tr>\n      <th>5</th>\n      <td>6</td>\n      <td>Valiant</td>\n      <td>18.1</td>\n      <td>6</td>\n      <td>225.0</td>\n      <td>105</td>\n      <td>2.76</td>\n      <td>3.460</td>\n      <td>20.22</td>\n      <td>1</td>\n      <td>0</td>\n      <td>3</td>\n      <td>1</td>\n    </tr>\n    <tr>\n      <th>6</th>\n      <td>7</td>\n      <td>Duster 360</td>\n      <td>14.3</td>\n      <td>8</td>\n      <td>360.0</td>\n      <td>245</td>\n      <td>3.21</td>\n      <td>3.570</td>\n      <td>15.84</td>\n      <td>0</td>\n      <td>0</td>\n      <td>3</td>\n      <td>4</td>\n    </tr>\n    <tr>\n      <th>7</th>\n      <td>8</td>\n      <td>Merc 240D</td>\n      <td>24.4</td>\n      <td>4</td>\n      <td>146.7</td>\n      <td>62</td>\n      <td>3.69</td>\n      <td>3.190</td>\n      <td>20.00</td>\n      <td>1</td>\n      <td>0</td>\n      <td>4</td>\n      <td>2</td>\n    </tr>\n    <tr>\n      <th>8</th>\n      <td>9</td>\n      <td>Merc 230</td>\n      <td>22.8</td>\n      <td>4</td>\n      <td>140.8</td>\n      <td>95</td>\n      <td>3.92</td>\n      <td>3.150</td>\n      <td>22.90</td>\n      <td>1</td>\n      <td>0</td>\n      <td>4</td>\n      <td>2</td>\n    </tr>\n    <tr>\n      <th>9</th>\n      <td>10</td>\n      <td>Merc 280</td>\n      <td>19.2</td>\n      <td>6</td>\n      <td>167.6</td>\n      <td>123</td>\n      <td>3.92</td>\n      <td>3.440</td>\n      <td>18.30</td>\n      <td>1</td>\n      <td>0</td>\n      <td>4</td>\n      <td>4</td>\n    </tr>\n    <tr>\n      <th>10</th>\n      <td>11</td>\n      <td>Merc 280C</td>\n      <td>17.8</td>\n      <td>6</td>\n      <td>167.6</td>\n      <td>123</td>\n      <td>3.92</td>\n      <td>3.440</td>\n      <td>18.90</td>\n      <td>1</td>\n      <td>0</td>\n      <td>4</td>\n      <td>4</td>\n    </tr>\n    <tr>\n      <th>11</th>\n      <td>12</td>\n      <td>Merc 450SE</td>\n      <td>16.4</td>\n      <td>8</td>\n      <td>275.8</td>\n      <td>180</td>\n      <td>3.07</td>\n      <td>4.070</td>\n      <td>17.40</td>\n      <td>0</td>\n      <td>0</td>\n      <td>3</td>\n      <td>3</td>\n    </tr>\n    <tr>\n      <th>12</th>\n      <td>13</td>\n      <td>Merc 450SL</td>\n      <td>17.3</td>\n      <td>8</td>\n      <td>275.8</td>\n      <td>180</td>\n      <td>3.07</td>\n      <td>3.730</td>\n      <td>17.60</td>\n      <td>0</td>\n      <td>0</td>\n      <td>3</td>\n      <td>3</td>\n    </tr>\n    <tr>\n      <th>13</th>\n      <td>14</td>\n      <td>Merc 450SLC</td>\n      <td>15.2</td>\n      <td>8</td>\n      <td>275.8</td>\n      <td>180</td>\n      <td>3.07</td>\n      <td>3.780</td>\n      <td>18.00</td>\n      <td>0</td>\n      <td>0</td>\n      <td>3</td>\n      <td>3</td>\n    </tr>\n    <tr>\n      <th>14</th>\n      <td>15</td>\n      <td>Cadillac Fleetwood</td>\n      <td>10.4</td>\n      <td>8</td>\n      <td>472.0</td>\n      <td>205</td>\n      <td>2.93</td>\n      <td>5.250</td>\n      <td>17.98</td>\n      <td>0</td>\n      <td>0</td>\n      <td>3</td>\n      <td>4</td>\n    </tr>\n    <tr>\n      <th>15</th>\n      <td>16</td>\n      <td>Lincoln Continental</td>\n      <td>10.4</td>\n      <td>8</td>\n      <td>460.0</td>\n      <td>215</td>\n      <td>3.00</td>\n      <td>5.424</td>\n      <td>17.82</td>\n      <td>0</td>\n      <td>0</td>\n      <td>3</td>\n      <td>4</td>\n    </tr>\n    <tr>\n      <th>16</th>\n      <td>17</td>\n      <td>Chrysler Imperial</td>\n      <td>14.7</td>\n      <td>8</td>\n      <td>440.0</td>\n      <td>230</td>\n      <td>3.23</td>\n      <td>5.345</td>\n      <td>17.42</td>\n      <td>0</td>\n      <td>0</td>\n      <td>3</td>\n      <td>4</td>\n    </tr>\n    <tr>\n      <th>17</th>\n      <td>18</td>\n      <td>Fiat 128</td>\n      <td>32.4</td>\n      <td>4</td>\n      <td>78.7</td>\n      <td>66</td>\n      <td>4.08</td>\n      <td>2.200</td>\n      <td>19.47</td>\n      <td>1</td>\n      <td>1</td>\n      <td>4</td>\n      <td>1</td>\n    </tr>\n    <tr>\n      <th>18</th>\n      <td>19</td>\n      <td>Honda Civic</td>\n      <td>30.4</td>\n      <td>4</td>\n      <td>75.7</td>\n      <td>52</td>\n      <td>4.93</td>\n      <td>1.615</td>\n      <td>18.52</td>\n      <td>1</td>\n      <td>1</td>\n      <td>4</td>\n      <td>2</td>\n    </tr>\n    <tr>\n      <th>19</th>\n      <td>20</td>\n      <td>Toyota Corolla</td>\n      <td>33.9</td>\n      <td>4</td>\n      <td>71.1</td>\n      <td>65</td>\n      <td>4.22</td>\n      <td>1.835</td>\n      <td>19.90</td>\n      <td>1</td>\n      <td>1</td>\n      <td>4</td>\n      <td>1</td>\n    </tr>\n    <tr>\n      <th>20</th>\n      <td>21</td>\n      <td>Toyota Corona</td>\n      <td>21.5</td>\n      <td>4</td>\n      <td>120.1</td>\n      <td>97</td>\n      <td>3.70</td>\n      <td>2.465</td>\n      <td>20.01</td>\n      <td>1</td>\n      <td>0</td>\n      <td>3</td>\n      <td>1</td>\n    </tr>\n    <tr>\n      <th>21</th>\n      <td>22</td>\n      <td>Dodge Challenger</td>\n      <td>15.5</td>\n      <td>8</td>\n      <td>318.0</td>\n      <td>150</td>\n      <td>2.76</td>\n      <td>3.520</td>\n      <td>16.87</td>\n      <td>0</td>\n      <td>0</td>\n      <td>3</td>\n      <td>2</td>\n    </tr>\n    <tr>\n      <th>22</th>\n      <td>23</td>\n      <td>AMC Javelin</td>\n      <td>15.2</td>\n      <td>8</td>\n      <td>304.0</td>\n      <td>150</td>\n      <td>3.15</td>\n      <td>3.435</td>\n      <td>17.30</td>\n      <td>0</td>\n      <td>0</td>\n      <td>3</td>\n      <td>2</td>\n    </tr>\n    <tr>\n      <th>23</th>\n      <td>24</td>\n      <td>Camaro Z28</td>\n      <td>13.3</td>\n      <td>8</td>\n      <td>350.0</td>\n      <td>245</td>\n      <td>3.73</td>\n      <td>3.840</td>\n      <td>15.41</td>\n      <td>0</td>\n      <td>0</td>\n      <td>3</td>\n      <td>4</td>\n    </tr>\n    <tr>\n      <th>24</th>\n      <td>25</td>\n      <td>Pontiac Firebird</td>\n      <td>19.2</td>\n      <td>8</td>\n      <td>400.0</td>\n      <td>175</td>\n      <td>3.08</td>\n      <td>3.845</td>\n      <td>17.05</td>\n      <td>0</td>\n      <td>0</td>\n      <td>3</td>\n      <td>2</td>\n    </tr>\n    <tr>\n      <th>25</th>\n      <td>26</td>\n      <td>Fiat X1-9</td>\n      <td>27.3</td>\n      <td>4</td>\n      <td>79.0</td>\n      <td>66</td>\n      <td>4.08</td>\n      <td>1.935</td>\n      <td>18.90</td>\n      <td>1</td>\n      <td>1</td>\n      <td>4</td>\n      <td>1</td>\n    </tr>\n    <tr>\n      <th>26</th>\n      <td>27</td>\n      <td>Porsche 914-2</td>\n      <td>26.0</td>\n      <td>4</td>\n      <td>120.3</td>\n      <td>91</td>\n      <td>4.43</td>\n      <td>2.140</td>\n      <td>16.70</td>\n      <td>0</td>\n      <td>1</td>\n      <td>5</td>\n      <td>2</td>\n    </tr>\n    <tr>\n      <th>27</th>\n      <td>28</td>\n      <td>Lotus Europa</td>\n      <td>30.4</td>\n      <td>4</td>\n      <td>95.1</td>\n      <td>113</td>\n      <td>NaN</td>\n      <td>1.513</td>\n      <td>16.90</td>\n      <td>1</td>\n      <td>1</td>\n      <td>5</td>\n      <td>2</td>\n    </tr>\n    <tr>\n      <th>28</th>\n      <td>29</td>\n      <td>Ford Pantera L</td>\n      <td>15.8</td>\n      <td>8</td>\n      <td>351.0</td>\n      <td>264</td>\n      <td>4.22</td>\n      <td>3.170</td>\n      <td>14.50</td>\n      <td>0</td>\n      <td>1</td>\n      <td>5</td>\n      <td>4</td>\n    </tr>\n    <tr>\n      <th>29</th>\n      <td>30</td>\n      <td>Ferrari Dino</td>\n      <td>19.7</td>\n      <td>6</td>\n      <td>145.0</td>\n      <td>175</td>\n      <td>3.62</td>\n      <td>2.770</td>\n      <td>15.50</td>\n      <td>0</td>\n      <td>1</td>\n      <td>5</td>\n      <td>6</td>\n    </tr>\n    <tr>\n      <th>30</th>\n      <td>31</td>\n      <td>Maserati Bora</td>\n      <td>15.0</td>\n      <td>8</td>\n      <td>301.0</td>\n      <td>335</td>\n      <td>3.54</td>\n      <td>3.570</td>\n      <td>14.60</td>\n      <td>0</td>\n      <td>1</td>\n      <td>5</td>\n      <td>8</td>\n    </tr>\n    <tr>\n      <th>31</th>\n      <td>32</td>\n      <td>Volvo 142E</td>\n      <td>21.4</td>\n      <td>4</td>\n      <td>121.0</td>\n      <td>109</td>\n      <td>4.11</td>\n      <td>2.780</td>\n      <td>18.60</td>\n      <td>1</td>\n      <td>1</td>\n      <td>4</td>\n      <td>2</td>\n    </tr>\n  </tbody>\n</table>\n</div>"
     },
     "metadata": {},
     "execution_count": 14
    }
   ],
   "source": [
    "#Data Preprocessing\n",
    "#0.importing dataset\n",
    "cars=pd.read_csv(r\"mtcars.csv\")\n",
    "cars"
   ]
  },
  {
   "cell_type": "code",
   "execution_count": 15,
   "metadata": {},
   "outputs": [],
   "source": [
    "#converting mpg datatype from float to str\n",
    "cars.mpg=cars.mpg.astype(str)\n"
   ]
  },
  {
   "cell_type": "code",
   "execution_count": 16,
   "metadata": {},
   "outputs": [
    {
     "output_type": "stream",
     "name": "stdout",
     "text": "<class 'pandas.core.frame.DataFrame'>\nRangeIndex: 32 entries, 0 to 31\nData columns (total 13 columns):\n #   Column      Non-Null Count  Dtype  \n---  ------      --------------  -----  \n 0   S.No        32 non-null     int64  \n 1   Unnamed: 1  32 non-null     object \n 2   mpg         32 non-null     object \n 3   cyl         32 non-null     int64  \n 4   disp        32 non-null     float64\n 5   hp          32 non-null     int64  \n 6   drat        31 non-null     float64\n 7   wt          32 non-null     float64\n 8   qsec        32 non-null     float64\n 9   vs          32 non-null     int64  \n 10  am          32 non-null     int64  \n 11  gear        32 non-null     int64  \n 12  carb        32 non-null     int64  \ndtypes: float64(4), int64(7), object(2)\nmemory usage: 3.4+ KB\n"
    }
   ],
   "source": [
    "#1.Analysis\n",
    "type(cars)\n",
    "cars.head()\n",
    "cars.head(12)\n",
    "cars.tail()\n",
    "cars.tail(8)\n",
    "cars.shape\n",
    "#print concise summary of dataset\n",
    "cars.info(null_counts=True)"
   ]
  },
  {
   "cell_type": "code",
   "execution_count": 17,
   "metadata": {},
   "outputs": [
    {
     "output_type": "execute_result",
     "data": {
      "text/plain": "            S.No        cyl        disp          hp       drat         wt  \\\ncount  32.000000  32.000000   32.000000   32.000000  31.000000  32.000000   \nmean   16.500000   6.187500  230.721875  146.687500   3.590968   3.217250   \nstd     9.380832   1.785922  123.938694   68.562868   0.542564   0.978457   \nmin     1.000000   4.000000   71.100000   52.000000   2.760000   1.513000   \n25%     8.750000   4.000000  120.825000   96.500000   3.080000   2.581250   \n50%    16.500000   6.000000  196.300000  123.000000   3.690000   3.325000   \n75%    24.250000   8.000000  326.000000  180.000000   3.920000   3.610000   \nmax    32.000000   8.000000  472.000000  335.000000   4.930000   5.424000   \n\n            qsec         vs         am       gear     carb  \ncount  32.000000  32.000000  32.000000  32.000000  32.0000  \nmean   17.848750   0.437500   0.406250   3.687500   2.8125  \nstd     1.786943   0.504016   0.498991   0.737804   1.6152  \nmin    14.500000   0.000000   0.000000   3.000000   1.0000  \n25%    16.892500   0.000000   0.000000   3.000000   2.0000  \n50%    17.710000   0.000000   0.000000   4.000000   2.0000  \n75%    18.900000   1.000000   1.000000   4.000000   4.0000  \nmax    22.900000   1.000000   1.000000   5.000000   8.0000  ",
      "text/html": "<div>\n<style scoped>\n    .dataframe tbody tr th:only-of-type {\n        vertical-align: middle;\n    }\n\n    .dataframe tbody tr th {\n        vertical-align: top;\n    }\n\n    .dataframe thead th {\n        text-align: right;\n    }\n</style>\n<table border=\"1\" class=\"dataframe\">\n  <thead>\n    <tr style=\"text-align: right;\">\n      <th></th>\n      <th>S.No</th>\n      <th>cyl</th>\n      <th>disp</th>\n      <th>hp</th>\n      <th>drat</th>\n      <th>wt</th>\n      <th>qsec</th>\n      <th>vs</th>\n      <th>am</th>\n      <th>gear</th>\n      <th>carb</th>\n    </tr>\n  </thead>\n  <tbody>\n    <tr>\n      <th>count</th>\n      <td>32.000000</td>\n      <td>32.000000</td>\n      <td>32.000000</td>\n      <td>32.000000</td>\n      <td>31.000000</td>\n      <td>32.000000</td>\n      <td>32.000000</td>\n      <td>32.000000</td>\n      <td>32.000000</td>\n      <td>32.000000</td>\n      <td>32.0000</td>\n    </tr>\n    <tr>\n      <th>mean</th>\n      <td>16.500000</td>\n      <td>6.187500</td>\n      <td>230.721875</td>\n      <td>146.687500</td>\n      <td>3.590968</td>\n      <td>3.217250</td>\n      <td>17.848750</td>\n      <td>0.437500</td>\n      <td>0.406250</td>\n      <td>3.687500</td>\n      <td>2.8125</td>\n    </tr>\n    <tr>\n      <th>std</th>\n      <td>9.380832</td>\n      <td>1.785922</td>\n      <td>123.938694</td>\n      <td>68.562868</td>\n      <td>0.542564</td>\n      <td>0.978457</td>\n      <td>1.786943</td>\n      <td>0.504016</td>\n      <td>0.498991</td>\n      <td>0.737804</td>\n      <td>1.6152</td>\n    </tr>\n    <tr>\n      <th>min</th>\n      <td>1.000000</td>\n      <td>4.000000</td>\n      <td>71.100000</td>\n      <td>52.000000</td>\n      <td>2.760000</td>\n      <td>1.513000</td>\n      <td>14.500000</td>\n      <td>0.000000</td>\n      <td>0.000000</td>\n      <td>3.000000</td>\n      <td>1.0000</td>\n    </tr>\n    <tr>\n      <th>25%</th>\n      <td>8.750000</td>\n      <td>4.000000</td>\n      <td>120.825000</td>\n      <td>96.500000</td>\n      <td>3.080000</td>\n      <td>2.581250</td>\n      <td>16.892500</td>\n      <td>0.000000</td>\n      <td>0.000000</td>\n      <td>3.000000</td>\n      <td>2.0000</td>\n    </tr>\n    <tr>\n      <th>50%</th>\n      <td>16.500000</td>\n      <td>6.000000</td>\n      <td>196.300000</td>\n      <td>123.000000</td>\n      <td>3.690000</td>\n      <td>3.325000</td>\n      <td>17.710000</td>\n      <td>0.000000</td>\n      <td>0.000000</td>\n      <td>4.000000</td>\n      <td>2.0000</td>\n    </tr>\n    <tr>\n      <th>75%</th>\n      <td>24.250000</td>\n      <td>8.000000</td>\n      <td>326.000000</td>\n      <td>180.000000</td>\n      <td>3.920000</td>\n      <td>3.610000</td>\n      <td>18.900000</td>\n      <td>1.000000</td>\n      <td>1.000000</td>\n      <td>4.000000</td>\n      <td>4.0000</td>\n    </tr>\n    <tr>\n      <th>max</th>\n      <td>32.000000</td>\n      <td>8.000000</td>\n      <td>472.000000</td>\n      <td>335.000000</td>\n      <td>4.930000</td>\n      <td>5.424000</td>\n      <td>22.900000</td>\n      <td>1.000000</td>\n      <td>1.000000</td>\n      <td>5.000000</td>\n      <td>8.0000</td>\n    </tr>\n  </tbody>\n</table>\n</div>"
     },
     "metadata": {},
     "execution_count": 17
    }
   ],
   "source": [
    "#methods in analysing process\n",
    "cars.mean()\n",
    "cars.median()\n",
    "cars.std()\n",
    "cars.count()\n",
    "#print descriptive statistics summary\n",
    "cars.describe()\n"
   ]
  },
  {
   "cell_type": "code",
   "execution_count": 18,
   "metadata": {},
   "outputs": [
    {
     "output_type": "execute_result",
     "data": {
      "text/plain": "                  model   mpg  cyl   disp   hp      drat     wt   qsec  vs  \\\n0             Mazda RX4  21.0    6  160.0  110  3.900000  2.620  16.46   0   \n1         Mazda RX4 Wag  21.0    6  160.0  110  3.900000  2.875  17.02   0   \n2            Datsun 710  22.8    4  108.0   93  3.850000  2.320  18.61   1   \n3        Hornet 4 Drive  21.4    6  258.0  110  3.080000  3.215  19.44   1   \n4     Hornet Sportabout  18.7    8  360.0  175  3.150000  3.440  17.02   0   \n5               Valiant  18.1    6  225.0  105  2.760000  3.460  20.22   1   \n6            Duster 360  14.3    8  360.0  245  3.210000  3.570  15.84   0   \n7             Merc 240D  24.4    4  146.7   62  3.690000  3.190  20.00   1   \n8              Merc 230  22.8    4  140.8   95  3.920000  3.150  22.90   1   \n9              Merc 280  19.2    6  167.6  123  3.920000  3.440  18.30   1   \n10            Merc 280C  17.8    6  167.6  123  3.920000  3.440  18.90   1   \n11           Merc 450SE  16.4    8  275.8  180  3.070000  4.070  17.40   0   \n12           Merc 450SL  17.3    8  275.8  180  3.070000  3.730  17.60   0   \n13          Merc 450SLC  15.2    8  275.8  180  3.070000  3.780  18.00   0   \n14   Cadillac Fleetwood  10.4    8  472.0  205  2.930000  5.250  17.98   0   \n15  Lincoln Continental  10.4    8  460.0  215  3.000000  5.424  17.82   0   \n16    Chrysler Imperial  14.7    8  440.0  230  3.230000  5.345  17.42   0   \n17             Fiat 128  32.4    4   78.7   66  4.080000  2.200  19.47   1   \n18          Honda Civic  30.4    4   75.7   52  4.930000  1.615  18.52   1   \n19       Toyota Corolla  33.9    4   71.1   65  4.220000  1.835  19.90   1   \n20        Toyota Corona  21.5    4  120.1   97  3.700000  2.465  20.01   1   \n21     Dodge Challenger  15.5    8  318.0  150  2.760000  3.520  16.87   0   \n22          AMC Javelin  15.2    8  304.0  150  3.150000  3.435  17.30   0   \n23           Camaro Z28  13.3    8  350.0  245  3.730000  3.840  15.41   0   \n24     Pontiac Firebird  19.2    8  400.0  175  3.080000  3.845  17.05   0   \n25            Fiat X1-9  27.3    4   79.0   66  4.080000  1.935  18.90   1   \n26        Porsche 914-2  26.0    4  120.3   91  4.430000  2.140  16.70   0   \n27         Lotus Europa  30.4    4   95.1  113  3.590968  1.513  16.90   1   \n28       Ford Pantera L  15.8    8  351.0  264  4.220000  3.170  14.50   0   \n29         Ferrari Dino  19.7    6  145.0  175  3.620000  2.770  15.50   0   \n30        Maserati Bora  15.0    8  301.0  335  3.540000  3.570  14.60   0   \n31           Volvo 142E  21.4    4  121.0  109  4.110000  2.780  18.60   1   \n\n    am  gear  carb  \n0    1     4     4  \n1    1     4     4  \n2    1     4     1  \n3    0     3     1  \n4    0     3     2  \n5    0     3     1  \n6    0     3     4  \n7    0     4     2  \n8    0     4     2  \n9    0     4     4  \n10   0     4     4  \n11   0     3     3  \n12   0     3     3  \n13   0     3     3  \n14   0     3     4  \n15   0     3     4  \n16   0     3     4  \n17   1     4     1  \n18   1     4     2  \n19   1     4     1  \n20   0     3     1  \n21   0     3     2  \n22   0     3     2  \n23   0     3     4  \n24   0     3     2  \n25   1     4     1  \n26   1     5     2  \n27   1     5     2  \n28   1     5     4  \n29   1     5     6  \n30   1     5     8  \n31   1     4     2  ",
      "text/html": "<div>\n<style scoped>\n    .dataframe tbody tr th:only-of-type {\n        vertical-align: middle;\n    }\n\n    .dataframe tbody tr th {\n        vertical-align: top;\n    }\n\n    .dataframe thead th {\n        text-align: right;\n    }\n</style>\n<table border=\"1\" class=\"dataframe\">\n  <thead>\n    <tr style=\"text-align: right;\">\n      <th></th>\n      <th>model</th>\n      <th>mpg</th>\n      <th>cyl</th>\n      <th>disp</th>\n      <th>hp</th>\n      <th>drat</th>\n      <th>wt</th>\n      <th>qsec</th>\n      <th>vs</th>\n      <th>am</th>\n      <th>gear</th>\n      <th>carb</th>\n    </tr>\n  </thead>\n  <tbody>\n    <tr>\n      <th>0</th>\n      <td>Mazda RX4</td>\n      <td>21.0</td>\n      <td>6</td>\n      <td>160.0</td>\n      <td>110</td>\n      <td>3.900000</td>\n      <td>2.620</td>\n      <td>16.46</td>\n      <td>0</td>\n      <td>1</td>\n      <td>4</td>\n      <td>4</td>\n    </tr>\n    <tr>\n      <th>1</th>\n      <td>Mazda RX4 Wag</td>\n      <td>21.0</td>\n      <td>6</td>\n      <td>160.0</td>\n      <td>110</td>\n      <td>3.900000</td>\n      <td>2.875</td>\n      <td>17.02</td>\n      <td>0</td>\n      <td>1</td>\n      <td>4</td>\n      <td>4</td>\n    </tr>\n    <tr>\n      <th>2</th>\n      <td>Datsun 710</td>\n      <td>22.8</td>\n      <td>4</td>\n      <td>108.0</td>\n      <td>93</td>\n      <td>3.850000</td>\n      <td>2.320</td>\n      <td>18.61</td>\n      <td>1</td>\n      <td>1</td>\n      <td>4</td>\n      <td>1</td>\n    </tr>\n    <tr>\n      <th>3</th>\n      <td>Hornet 4 Drive</td>\n      <td>21.4</td>\n      <td>6</td>\n      <td>258.0</td>\n      <td>110</td>\n      <td>3.080000</td>\n      <td>3.215</td>\n      <td>19.44</td>\n      <td>1</td>\n      <td>0</td>\n      <td>3</td>\n      <td>1</td>\n    </tr>\n    <tr>\n      <th>4</th>\n      <td>Hornet Sportabout</td>\n      <td>18.7</td>\n      <td>8</td>\n      <td>360.0</td>\n      <td>175</td>\n      <td>3.150000</td>\n      <td>3.440</td>\n      <td>17.02</td>\n      <td>0</td>\n      <td>0</td>\n      <td>3</td>\n      <td>2</td>\n    </tr>\n    <tr>\n      <th>5</th>\n      <td>Valiant</td>\n      <td>18.1</td>\n      <td>6</td>\n      <td>225.0</td>\n      <td>105</td>\n      <td>2.760000</td>\n      <td>3.460</td>\n      <td>20.22</td>\n      <td>1</td>\n      <td>0</td>\n      <td>3</td>\n      <td>1</td>\n    </tr>\n    <tr>\n      <th>6</th>\n      <td>Duster 360</td>\n      <td>14.3</td>\n      <td>8</td>\n      <td>360.0</td>\n      <td>245</td>\n      <td>3.210000</td>\n      <td>3.570</td>\n      <td>15.84</td>\n      <td>0</td>\n      <td>0</td>\n      <td>3</td>\n      <td>4</td>\n    </tr>\n    <tr>\n      <th>7</th>\n      <td>Merc 240D</td>\n      <td>24.4</td>\n      <td>4</td>\n      <td>146.7</td>\n      <td>62</td>\n      <td>3.690000</td>\n      <td>3.190</td>\n      <td>20.00</td>\n      <td>1</td>\n      <td>0</td>\n      <td>4</td>\n      <td>2</td>\n    </tr>\n    <tr>\n      <th>8</th>\n      <td>Merc 230</td>\n      <td>22.8</td>\n      <td>4</td>\n      <td>140.8</td>\n      <td>95</td>\n      <td>3.920000</td>\n      <td>3.150</td>\n      <td>22.90</td>\n      <td>1</td>\n      <td>0</td>\n      <td>4</td>\n      <td>2</td>\n    </tr>\n    <tr>\n      <th>9</th>\n      <td>Merc 280</td>\n      <td>19.2</td>\n      <td>6</td>\n      <td>167.6</td>\n      <td>123</td>\n      <td>3.920000</td>\n      <td>3.440</td>\n      <td>18.30</td>\n      <td>1</td>\n      <td>0</td>\n      <td>4</td>\n      <td>4</td>\n    </tr>\n    <tr>\n      <th>10</th>\n      <td>Merc 280C</td>\n      <td>17.8</td>\n      <td>6</td>\n      <td>167.6</td>\n      <td>123</td>\n      <td>3.920000</td>\n      <td>3.440</td>\n      <td>18.90</td>\n      <td>1</td>\n      <td>0</td>\n      <td>4</td>\n      <td>4</td>\n    </tr>\n    <tr>\n      <th>11</th>\n      <td>Merc 450SE</td>\n      <td>16.4</td>\n      <td>8</td>\n      <td>275.8</td>\n      <td>180</td>\n      <td>3.070000</td>\n      <td>4.070</td>\n      <td>17.40</td>\n      <td>0</td>\n      <td>0</td>\n      <td>3</td>\n      <td>3</td>\n    </tr>\n    <tr>\n      <th>12</th>\n      <td>Merc 450SL</td>\n      <td>17.3</td>\n      <td>8</td>\n      <td>275.8</td>\n      <td>180</td>\n      <td>3.070000</td>\n      <td>3.730</td>\n      <td>17.60</td>\n      <td>0</td>\n      <td>0</td>\n      <td>3</td>\n      <td>3</td>\n    </tr>\n    <tr>\n      <th>13</th>\n      <td>Merc 450SLC</td>\n      <td>15.2</td>\n      <td>8</td>\n      <td>275.8</td>\n      <td>180</td>\n      <td>3.070000</td>\n      <td>3.780</td>\n      <td>18.00</td>\n      <td>0</td>\n      <td>0</td>\n      <td>3</td>\n      <td>3</td>\n    </tr>\n    <tr>\n      <th>14</th>\n      <td>Cadillac Fleetwood</td>\n      <td>10.4</td>\n      <td>8</td>\n      <td>472.0</td>\n      <td>205</td>\n      <td>2.930000</td>\n      <td>5.250</td>\n      <td>17.98</td>\n      <td>0</td>\n      <td>0</td>\n      <td>3</td>\n      <td>4</td>\n    </tr>\n    <tr>\n      <th>15</th>\n      <td>Lincoln Continental</td>\n      <td>10.4</td>\n      <td>8</td>\n      <td>460.0</td>\n      <td>215</td>\n      <td>3.000000</td>\n      <td>5.424</td>\n      <td>17.82</td>\n      <td>0</td>\n      <td>0</td>\n      <td>3</td>\n      <td>4</td>\n    </tr>\n    <tr>\n      <th>16</th>\n      <td>Chrysler Imperial</td>\n      <td>14.7</td>\n      <td>8</td>\n      <td>440.0</td>\n      <td>230</td>\n      <td>3.230000</td>\n      <td>5.345</td>\n      <td>17.42</td>\n      <td>0</td>\n      <td>0</td>\n      <td>3</td>\n      <td>4</td>\n    </tr>\n    <tr>\n      <th>17</th>\n      <td>Fiat 128</td>\n      <td>32.4</td>\n      <td>4</td>\n      <td>78.7</td>\n      <td>66</td>\n      <td>4.080000</td>\n      <td>2.200</td>\n      <td>19.47</td>\n      <td>1</td>\n      <td>1</td>\n      <td>4</td>\n      <td>1</td>\n    </tr>\n    <tr>\n      <th>18</th>\n      <td>Honda Civic</td>\n      <td>30.4</td>\n      <td>4</td>\n      <td>75.7</td>\n      <td>52</td>\n      <td>4.930000</td>\n      <td>1.615</td>\n      <td>18.52</td>\n      <td>1</td>\n      <td>1</td>\n      <td>4</td>\n      <td>2</td>\n    </tr>\n    <tr>\n      <th>19</th>\n      <td>Toyota Corolla</td>\n      <td>33.9</td>\n      <td>4</td>\n      <td>71.1</td>\n      <td>65</td>\n      <td>4.220000</td>\n      <td>1.835</td>\n      <td>19.90</td>\n      <td>1</td>\n      <td>1</td>\n      <td>4</td>\n      <td>1</td>\n    </tr>\n    <tr>\n      <th>20</th>\n      <td>Toyota Corona</td>\n      <td>21.5</td>\n      <td>4</td>\n      <td>120.1</td>\n      <td>97</td>\n      <td>3.700000</td>\n      <td>2.465</td>\n      <td>20.01</td>\n      <td>1</td>\n      <td>0</td>\n      <td>3</td>\n      <td>1</td>\n    </tr>\n    <tr>\n      <th>21</th>\n      <td>Dodge Challenger</td>\n      <td>15.5</td>\n      <td>8</td>\n      <td>318.0</td>\n      <td>150</td>\n      <td>2.760000</td>\n      <td>3.520</td>\n      <td>16.87</td>\n      <td>0</td>\n      <td>0</td>\n      <td>3</td>\n      <td>2</td>\n    </tr>\n    <tr>\n      <th>22</th>\n      <td>AMC Javelin</td>\n      <td>15.2</td>\n      <td>8</td>\n      <td>304.0</td>\n      <td>150</td>\n      <td>3.150000</td>\n      <td>3.435</td>\n      <td>17.30</td>\n      <td>0</td>\n      <td>0</td>\n      <td>3</td>\n      <td>2</td>\n    </tr>\n    <tr>\n      <th>23</th>\n      <td>Camaro Z28</td>\n      <td>13.3</td>\n      <td>8</td>\n      <td>350.0</td>\n      <td>245</td>\n      <td>3.730000</td>\n      <td>3.840</td>\n      <td>15.41</td>\n      <td>0</td>\n      <td>0</td>\n      <td>3</td>\n      <td>4</td>\n    </tr>\n    <tr>\n      <th>24</th>\n      <td>Pontiac Firebird</td>\n      <td>19.2</td>\n      <td>8</td>\n      <td>400.0</td>\n      <td>175</td>\n      <td>3.080000</td>\n      <td>3.845</td>\n      <td>17.05</td>\n      <td>0</td>\n      <td>0</td>\n      <td>3</td>\n      <td>2</td>\n    </tr>\n    <tr>\n      <th>25</th>\n      <td>Fiat X1-9</td>\n      <td>27.3</td>\n      <td>4</td>\n      <td>79.0</td>\n      <td>66</td>\n      <td>4.080000</td>\n      <td>1.935</td>\n      <td>18.90</td>\n      <td>1</td>\n      <td>1</td>\n      <td>4</td>\n      <td>1</td>\n    </tr>\n    <tr>\n      <th>26</th>\n      <td>Porsche 914-2</td>\n      <td>26.0</td>\n      <td>4</td>\n      <td>120.3</td>\n      <td>91</td>\n      <td>4.430000</td>\n      <td>2.140</td>\n      <td>16.70</td>\n      <td>0</td>\n      <td>1</td>\n      <td>5</td>\n      <td>2</td>\n    </tr>\n    <tr>\n      <th>27</th>\n      <td>Lotus Europa</td>\n      <td>30.4</td>\n      <td>4</td>\n      <td>95.1</td>\n      <td>113</td>\n      <td>3.590968</td>\n      <td>1.513</td>\n      <td>16.90</td>\n      <td>1</td>\n      <td>1</td>\n      <td>5</td>\n      <td>2</td>\n    </tr>\n    <tr>\n      <th>28</th>\n      <td>Ford Pantera L</td>\n      <td>15.8</td>\n      <td>8</td>\n      <td>351.0</td>\n      <td>264</td>\n      <td>4.220000</td>\n      <td>3.170</td>\n      <td>14.50</td>\n      <td>0</td>\n      <td>1</td>\n      <td>5</td>\n      <td>4</td>\n    </tr>\n    <tr>\n      <th>29</th>\n      <td>Ferrari Dino</td>\n      <td>19.7</td>\n      <td>6</td>\n      <td>145.0</td>\n      <td>175</td>\n      <td>3.620000</td>\n      <td>2.770</td>\n      <td>15.50</td>\n      <td>0</td>\n      <td>1</td>\n      <td>5</td>\n      <td>6</td>\n    </tr>\n    <tr>\n      <th>30</th>\n      <td>Maserati Bora</td>\n      <td>15.0</td>\n      <td>8</td>\n      <td>301.0</td>\n      <td>335</td>\n      <td>3.540000</td>\n      <td>3.570</td>\n      <td>14.60</td>\n      <td>0</td>\n      <td>1</td>\n      <td>5</td>\n      <td>8</td>\n    </tr>\n    <tr>\n      <th>31</th>\n      <td>Volvo 142E</td>\n      <td>21.4</td>\n      <td>4</td>\n      <td>121.0</td>\n      <td>109</td>\n      <td>4.110000</td>\n      <td>2.780</td>\n      <td>18.60</td>\n      <td>1</td>\n      <td>1</td>\n      <td>4</td>\n      <td>2</td>\n    </tr>\n  </tbody>\n</table>\n</div>"
     },
     "metadata": {},
     "execution_count": 18
    }
   ],
   "source": [
    "#2.cleaning\n",
    "#rename column\n",
    "cars=cars.rename(columns={'Unnamed: 1':'model'})\n",
    "#fill null values/Nan with mean()\n",
    "cars.drat=cars.drat.fillna(cars.drat.mean())\n",
    "#remove serial.Number column\n",
    "cars=cars.drop(columns=['S.No'])\n",
    "cars"
   ]
  },
  {
   "cell_type": "code",
   "execution_count": 19,
   "metadata": {},
   "outputs": [
    {
     "output_type": "execute_result",
     "data": {
      "text/plain": "           cyl      disp        hp      drat        wt      qsec        vs  \\\ncyl   1.000000  0.902033  0.832447 -0.687914  0.782496 -0.591242 -0.810812   \ndisp  0.902033  1.000000  0.790949 -0.699621  0.887980 -0.433698 -0.710416   \nhp    0.832447  0.790949  1.000000 -0.444231  0.658748 -0.708223 -0.723097   \ndrat -0.687914 -0.699621 -0.444231  1.000000 -0.694846  0.097110  0.428976   \nwt    0.782496  0.887980  0.658748 -0.694846  1.000000 -0.174716 -0.554916   \nqsec -0.591242 -0.433698 -0.708223  0.097110 -0.174716  1.000000  0.744535   \nvs   -0.810812 -0.710416 -0.723097  0.428976 -0.554916  0.744535  1.000000   \nam   -0.522607 -0.591227 -0.243204  0.701088 -0.692495 -0.229861  0.168345   \ngear -0.492687 -0.555569 -0.125704  0.681590 -0.583287 -0.212682  0.206023   \ncarb  0.526988  0.394977  0.749812 -0.085506  0.427606 -0.656249 -0.569607   \n\n            am      gear      carb  \ncyl  -0.522607 -0.492687  0.526988  \ndisp -0.591227 -0.555569  0.394977  \nhp   -0.243204 -0.125704  0.749812  \ndrat  0.701088  0.681590 -0.085506  \nwt   -0.692495 -0.583287  0.427606  \nqsec -0.229861 -0.212682 -0.656249  \nvs    0.168345  0.206023 -0.569607  \nam    1.000000  0.794059  0.057534  \ngear  0.794059  1.000000  0.274073  \ncarb  0.057534  0.274073  1.000000  ",
      "text/html": "<div>\n<style scoped>\n    .dataframe tbody tr th:only-of-type {\n        vertical-align: middle;\n    }\n\n    .dataframe tbody tr th {\n        vertical-align: top;\n    }\n\n    .dataframe thead th {\n        text-align: right;\n    }\n</style>\n<table border=\"1\" class=\"dataframe\">\n  <thead>\n    <tr style=\"text-align: right;\">\n      <th></th>\n      <th>cyl</th>\n      <th>disp</th>\n      <th>hp</th>\n      <th>drat</th>\n      <th>wt</th>\n      <th>qsec</th>\n      <th>vs</th>\n      <th>am</th>\n      <th>gear</th>\n      <th>carb</th>\n    </tr>\n  </thead>\n  <tbody>\n    <tr>\n      <th>cyl</th>\n      <td>1.000000</td>\n      <td>0.902033</td>\n      <td>0.832447</td>\n      <td>-0.687914</td>\n      <td>0.782496</td>\n      <td>-0.591242</td>\n      <td>-0.810812</td>\n      <td>-0.522607</td>\n      <td>-0.492687</td>\n      <td>0.526988</td>\n    </tr>\n    <tr>\n      <th>disp</th>\n      <td>0.902033</td>\n      <td>1.000000</td>\n      <td>0.790949</td>\n      <td>-0.699621</td>\n      <td>0.887980</td>\n      <td>-0.433698</td>\n      <td>-0.710416</td>\n      <td>-0.591227</td>\n      <td>-0.555569</td>\n      <td>0.394977</td>\n    </tr>\n    <tr>\n      <th>hp</th>\n      <td>0.832447</td>\n      <td>0.790949</td>\n      <td>1.000000</td>\n      <td>-0.444231</td>\n      <td>0.658748</td>\n      <td>-0.708223</td>\n      <td>-0.723097</td>\n      <td>-0.243204</td>\n      <td>-0.125704</td>\n      <td>0.749812</td>\n    </tr>\n    <tr>\n      <th>drat</th>\n      <td>-0.687914</td>\n      <td>-0.699621</td>\n      <td>-0.444231</td>\n      <td>1.000000</td>\n      <td>-0.694846</td>\n      <td>0.097110</td>\n      <td>0.428976</td>\n      <td>0.701088</td>\n      <td>0.681590</td>\n      <td>-0.085506</td>\n    </tr>\n    <tr>\n      <th>wt</th>\n      <td>0.782496</td>\n      <td>0.887980</td>\n      <td>0.658748</td>\n      <td>-0.694846</td>\n      <td>1.000000</td>\n      <td>-0.174716</td>\n      <td>-0.554916</td>\n      <td>-0.692495</td>\n      <td>-0.583287</td>\n      <td>0.427606</td>\n    </tr>\n    <tr>\n      <th>qsec</th>\n      <td>-0.591242</td>\n      <td>-0.433698</td>\n      <td>-0.708223</td>\n      <td>0.097110</td>\n      <td>-0.174716</td>\n      <td>1.000000</td>\n      <td>0.744535</td>\n      <td>-0.229861</td>\n      <td>-0.212682</td>\n      <td>-0.656249</td>\n    </tr>\n    <tr>\n      <th>vs</th>\n      <td>-0.810812</td>\n      <td>-0.710416</td>\n      <td>-0.723097</td>\n      <td>0.428976</td>\n      <td>-0.554916</td>\n      <td>0.744535</td>\n      <td>1.000000</td>\n      <td>0.168345</td>\n      <td>0.206023</td>\n      <td>-0.569607</td>\n    </tr>\n    <tr>\n      <th>am</th>\n      <td>-0.522607</td>\n      <td>-0.591227</td>\n      <td>-0.243204</td>\n      <td>0.701088</td>\n      <td>-0.692495</td>\n      <td>-0.229861</td>\n      <td>0.168345</td>\n      <td>1.000000</td>\n      <td>0.794059</td>\n      <td>0.057534</td>\n    </tr>\n    <tr>\n      <th>gear</th>\n      <td>-0.492687</td>\n      <td>-0.555569</td>\n      <td>-0.125704</td>\n      <td>0.681590</td>\n      <td>-0.583287</td>\n      <td>-0.212682</td>\n      <td>0.206023</td>\n      <td>0.794059</td>\n      <td>1.000000</td>\n      <td>0.274073</td>\n    </tr>\n    <tr>\n      <th>carb</th>\n      <td>0.526988</td>\n      <td>0.394977</td>\n      <td>0.749812</td>\n      <td>-0.085506</td>\n      <td>0.427606</td>\n      <td>-0.656249</td>\n      <td>-0.569607</td>\n      <td>0.057534</td>\n      <td>0.274073</td>\n      <td>1.000000</td>\n    </tr>\n  </tbody>\n</table>\n</div>"
     },
     "metadata": {},
     "execution_count": 19
    }
   ],
   "source": [
    "#find correlation matrix\n",
    "df=cars[['mpg','cyl','disp','hp','drat','wt','qsec','vs','am','gear','carb']].corr()\n",
    "#change back mpg from str to float\n",
    "cars.mpg=cars.mpg.astype(float)\n",
    "#cars.info(null_counts=True)\n",
    "df"
   ]
  },
  {
   "cell_type": "code",
   "execution_count": 20,
   "metadata": {},
   "outputs": [
    {
     "output_type": "execute_result",
     "data": {
      "text/plain": "model    Mazda RX4 Wag\nmpg                 21\ncyl                  6\ndisp               160\nhp                 110\ndrat               3.9\nwt               2.875\nqsec             17.02\nvs                   0\nam                   1\ngear                 4\ncarb                 4\nName: 1, dtype: object"
     },
     "metadata": {},
     "execution_count": 20
    }
   ],
   "source": [
    "#3.Manipulation\n",
    "#3.1.indexing by position\n",
    "\n",
    "#view hp column only\n",
    "cars.iloc[:,4]\n",
    "#first five records of hp column\n",
    "cars.iloc[:5,4]\n",
    "#all rows,columns\n",
    "cars.iloc[:,:]\n",
    "#for displaying attributes from hp to carb & records from index 6\n",
    "cars.iloc[6:,4:]\n",
    "#display all rows and first column\n",
    "cars.iloc[:,1]\n",
    "#display all columns and first row\n",
    "cars.iloc[1,:]"
   ]
  },
  {
   "cell_type": "code",
   "execution_count": 21,
   "metadata": {},
   "outputs": [
    {
     "output_type": "execute_result",
     "data": {
      "text/plain": "                  model   mpg  cyl   disp   hp      drat     wt   qsec  vs  \\\n0             Mazda RX4  21.0    6  160.0  110  3.900000  2.620  16.46   0   \n1         Mazda RX4 Wag  21.0    6  160.0  110  3.900000  2.875  17.02   0   \n2            Datsun 710  22.8    4  108.0   93  3.850000  2.320  18.61   1   \n3        Hornet 4 Drive  21.4    6  258.0  110  3.080000  3.215  19.44   1   \n4     Hornet Sportabout  18.7    8  360.0  175  3.150000  3.440  17.02   0   \n5               Valiant  18.1    6  225.0  105  2.760000  3.460  20.22   1   \n6            Duster 360  14.3    8  360.0  245  3.210000  3.570  15.84   0   \n7             Merc 240D  24.4    4  146.7   62  3.690000  3.190  20.00   1   \n8              Merc 230  22.8    4  140.8   95  3.920000  3.150  22.90   1   \n9              Merc 280  19.2    6  167.6  123  3.920000  3.440  18.30   1   \n10            Merc 280C  17.8    6  167.6  123  3.920000  3.440  18.90   1   \n11           Merc 450SE  16.4    8  275.8  180  3.070000  4.070  17.40   0   \n12           Merc 450SL  17.3    8  275.8  180  3.070000  3.730  17.60   0   \n13          Merc 450SLC  15.2    8  275.8  180  3.070000  3.780  18.00   0   \n14   Cadillac Fleetwood  10.4    8  472.0  205  2.930000  5.250  17.98   0   \n15  Lincoln Continental  10.4    8  460.0  215  3.000000  5.424  17.82   0   \n16    Chrysler Imperial  14.7    8  440.0  230  3.230000  5.345  17.42   0   \n17             Fiat 128  32.4    4   78.7   66  4.080000  2.200  19.47   1   \n18          Honda Civic  30.4    4   75.7   52  4.930000  1.615  18.52   1   \n19       Toyota Corolla  33.9    4   71.1   65  4.220000  1.835  19.90   1   \n20        Toyota Corona  21.5    4  120.1   97  3.700000  2.465  20.01   1   \n21     Dodge Challenger  15.5    8  318.0  150  2.760000  3.520  16.87   0   \n22          AMC Javelin  15.2    8  304.0  150  3.150000  3.435  17.30   0   \n23           Camaro Z28  13.3    8  350.0  245  3.730000  3.840  15.41   0   \n24     Pontiac Firebird  19.2    8  400.0  175  3.080000  3.845  17.05   0   \n25            Fiat X1-9  27.3    4   79.0   66  4.080000  1.935  18.90   1   \n26        Porsche 914-2  26.0    4  120.3   91  4.430000  2.140  16.70   0   \n27         Lotus Europa  30.4    4   95.1  113  3.590968  1.513  16.90   1   \n28       Ford Pantera L  15.8    8  351.0  264  4.220000  3.170  14.50   0   \n29         Ferrari Dino  19.7    6  145.0  175  3.620000  2.770  15.50   0   \n30        Maserati Bora  15.0    8  301.0  335  3.540000  3.570  14.60   0   \n31           Volvo 142E  21.4    4  121.0  109  4.110000  2.780  18.60   1   \n\n    am  gear  carb  2am  \n0    1     4     4    2  \n1    1     4     4    2  \n2    1     4     1    2  \n3    1     3     1    2  \n4    1     3     2    2  \n5    1     3     1    2  \n6    1     3     4    2  \n7    1     4     2    2  \n8    1     4     2    2  \n9    1     4     4    2  \n10   1     4     4    2  \n11   1     3     3    2  \n12   1     3     3    2  \n13   1     3     3    2  \n14   1     3     4    2  \n15   1     3     4    2  \n16   1     3     4    2  \n17   1     4     1    2  \n18   1     4     2    2  \n19   1     4     1    2  \n20   1     3     1    2  \n21   1     3     2    2  \n22   1     3     2    2  \n23   1     3     4    2  \n24   1     3     2    2  \n25   1     4     1    2  \n26   1     5     2    2  \n27   1     5     2    2  \n28   1     5     4    2  \n29   1     5     6    2  \n30   1     5     8    2  \n31   1     4     2    2  ",
      "text/html": "<div>\n<style scoped>\n    .dataframe tbody tr th:only-of-type {\n        vertical-align: middle;\n    }\n\n    .dataframe tbody tr th {\n        vertical-align: top;\n    }\n\n    .dataframe thead th {\n        text-align: right;\n    }\n</style>\n<table border=\"1\" class=\"dataframe\">\n  <thead>\n    <tr style=\"text-align: right;\">\n      <th></th>\n      <th>model</th>\n      <th>mpg</th>\n      <th>cyl</th>\n      <th>disp</th>\n      <th>hp</th>\n      <th>drat</th>\n      <th>wt</th>\n      <th>qsec</th>\n      <th>vs</th>\n      <th>am</th>\n      <th>gear</th>\n      <th>carb</th>\n      <th>2am</th>\n    </tr>\n  </thead>\n  <tbody>\n    <tr>\n      <th>0</th>\n      <td>Mazda RX4</td>\n      <td>21.0</td>\n      <td>6</td>\n      <td>160.0</td>\n      <td>110</td>\n      <td>3.900000</td>\n      <td>2.620</td>\n      <td>16.46</td>\n      <td>0</td>\n      <td>1</td>\n      <td>4</td>\n      <td>4</td>\n      <td>2</td>\n    </tr>\n    <tr>\n      <th>1</th>\n      <td>Mazda RX4 Wag</td>\n      <td>21.0</td>\n      <td>6</td>\n      <td>160.0</td>\n      <td>110</td>\n      <td>3.900000</td>\n      <td>2.875</td>\n      <td>17.02</td>\n      <td>0</td>\n      <td>1</td>\n      <td>4</td>\n      <td>4</td>\n      <td>2</td>\n    </tr>\n    <tr>\n      <th>2</th>\n      <td>Datsun 710</td>\n      <td>22.8</td>\n      <td>4</td>\n      <td>108.0</td>\n      <td>93</td>\n      <td>3.850000</td>\n      <td>2.320</td>\n      <td>18.61</td>\n      <td>1</td>\n      <td>1</td>\n      <td>4</td>\n      <td>1</td>\n      <td>2</td>\n    </tr>\n    <tr>\n      <th>3</th>\n      <td>Hornet 4 Drive</td>\n      <td>21.4</td>\n      <td>6</td>\n      <td>258.0</td>\n      <td>110</td>\n      <td>3.080000</td>\n      <td>3.215</td>\n      <td>19.44</td>\n      <td>1</td>\n      <td>1</td>\n      <td>3</td>\n      <td>1</td>\n      <td>2</td>\n    </tr>\n    <tr>\n      <th>4</th>\n      <td>Hornet Sportabout</td>\n      <td>18.7</td>\n      <td>8</td>\n      <td>360.0</td>\n      <td>175</td>\n      <td>3.150000</td>\n      <td>3.440</td>\n      <td>17.02</td>\n      <td>0</td>\n      <td>1</td>\n      <td>3</td>\n      <td>2</td>\n      <td>2</td>\n    </tr>\n    <tr>\n      <th>5</th>\n      <td>Valiant</td>\n      <td>18.1</td>\n      <td>6</td>\n      <td>225.0</td>\n      <td>105</td>\n      <td>2.760000</td>\n      <td>3.460</td>\n      <td>20.22</td>\n      <td>1</td>\n      <td>1</td>\n      <td>3</td>\n      <td>1</td>\n      <td>2</td>\n    </tr>\n    <tr>\n      <th>6</th>\n      <td>Duster 360</td>\n      <td>14.3</td>\n      <td>8</td>\n      <td>360.0</td>\n      <td>245</td>\n      <td>3.210000</td>\n      <td>3.570</td>\n      <td>15.84</td>\n      <td>0</td>\n      <td>1</td>\n      <td>3</td>\n      <td>4</td>\n      <td>2</td>\n    </tr>\n    <tr>\n      <th>7</th>\n      <td>Merc 240D</td>\n      <td>24.4</td>\n      <td>4</td>\n      <td>146.7</td>\n      <td>62</td>\n      <td>3.690000</td>\n      <td>3.190</td>\n      <td>20.00</td>\n      <td>1</td>\n      <td>1</td>\n      <td>4</td>\n      <td>2</td>\n      <td>2</td>\n    </tr>\n    <tr>\n      <th>8</th>\n      <td>Merc 230</td>\n      <td>22.8</td>\n      <td>4</td>\n      <td>140.8</td>\n      <td>95</td>\n      <td>3.920000</td>\n      <td>3.150</td>\n      <td>22.90</td>\n      <td>1</td>\n      <td>1</td>\n      <td>4</td>\n      <td>2</td>\n      <td>2</td>\n    </tr>\n    <tr>\n      <th>9</th>\n      <td>Merc 280</td>\n      <td>19.2</td>\n      <td>6</td>\n      <td>167.6</td>\n      <td>123</td>\n      <td>3.920000</td>\n      <td>3.440</td>\n      <td>18.30</td>\n      <td>1</td>\n      <td>1</td>\n      <td>4</td>\n      <td>4</td>\n      <td>2</td>\n    </tr>\n    <tr>\n      <th>10</th>\n      <td>Merc 280C</td>\n      <td>17.8</td>\n      <td>6</td>\n      <td>167.6</td>\n      <td>123</td>\n      <td>3.920000</td>\n      <td>3.440</td>\n      <td>18.90</td>\n      <td>1</td>\n      <td>1</td>\n      <td>4</td>\n      <td>4</td>\n      <td>2</td>\n    </tr>\n    <tr>\n      <th>11</th>\n      <td>Merc 450SE</td>\n      <td>16.4</td>\n      <td>8</td>\n      <td>275.8</td>\n      <td>180</td>\n      <td>3.070000</td>\n      <td>4.070</td>\n      <td>17.40</td>\n      <td>0</td>\n      <td>1</td>\n      <td>3</td>\n      <td>3</td>\n      <td>2</td>\n    </tr>\n    <tr>\n      <th>12</th>\n      <td>Merc 450SL</td>\n      <td>17.3</td>\n      <td>8</td>\n      <td>275.8</td>\n      <td>180</td>\n      <td>3.070000</td>\n      <td>3.730</td>\n      <td>17.60</td>\n      <td>0</td>\n      <td>1</td>\n      <td>3</td>\n      <td>3</td>\n      <td>2</td>\n    </tr>\n    <tr>\n      <th>13</th>\n      <td>Merc 450SLC</td>\n      <td>15.2</td>\n      <td>8</td>\n      <td>275.8</td>\n      <td>180</td>\n      <td>3.070000</td>\n      <td>3.780</td>\n      <td>18.00</td>\n      <td>0</td>\n      <td>1</td>\n      <td>3</td>\n      <td>3</td>\n      <td>2</td>\n    </tr>\n    <tr>\n      <th>14</th>\n      <td>Cadillac Fleetwood</td>\n      <td>10.4</td>\n      <td>8</td>\n      <td>472.0</td>\n      <td>205</td>\n      <td>2.930000</td>\n      <td>5.250</td>\n      <td>17.98</td>\n      <td>0</td>\n      <td>1</td>\n      <td>3</td>\n      <td>4</td>\n      <td>2</td>\n    </tr>\n    <tr>\n      <th>15</th>\n      <td>Lincoln Continental</td>\n      <td>10.4</td>\n      <td>8</td>\n      <td>460.0</td>\n      <td>215</td>\n      <td>3.000000</td>\n      <td>5.424</td>\n      <td>17.82</td>\n      <td>0</td>\n      <td>1</td>\n      <td>3</td>\n      <td>4</td>\n      <td>2</td>\n    </tr>\n    <tr>\n      <th>16</th>\n      <td>Chrysler Imperial</td>\n      <td>14.7</td>\n      <td>8</td>\n      <td>440.0</td>\n      <td>230</td>\n      <td>3.230000</td>\n      <td>5.345</td>\n      <td>17.42</td>\n      <td>0</td>\n      <td>1</td>\n      <td>3</td>\n      <td>4</td>\n      <td>2</td>\n    </tr>\n    <tr>\n      <th>17</th>\n      <td>Fiat 128</td>\n      <td>32.4</td>\n      <td>4</td>\n      <td>78.7</td>\n      <td>66</td>\n      <td>4.080000</td>\n      <td>2.200</td>\n      <td>19.47</td>\n      <td>1</td>\n      <td>1</td>\n      <td>4</td>\n      <td>1</td>\n      <td>2</td>\n    </tr>\n    <tr>\n      <th>18</th>\n      <td>Honda Civic</td>\n      <td>30.4</td>\n      <td>4</td>\n      <td>75.7</td>\n      <td>52</td>\n      <td>4.930000</td>\n      <td>1.615</td>\n      <td>18.52</td>\n      <td>1</td>\n      <td>1</td>\n      <td>4</td>\n      <td>2</td>\n      <td>2</td>\n    </tr>\n    <tr>\n      <th>19</th>\n      <td>Toyota Corolla</td>\n      <td>33.9</td>\n      <td>4</td>\n      <td>71.1</td>\n      <td>65</td>\n      <td>4.220000</td>\n      <td>1.835</td>\n      <td>19.90</td>\n      <td>1</td>\n      <td>1</td>\n      <td>4</td>\n      <td>1</td>\n      <td>2</td>\n    </tr>\n    <tr>\n      <th>20</th>\n      <td>Toyota Corona</td>\n      <td>21.5</td>\n      <td>4</td>\n      <td>120.1</td>\n      <td>97</td>\n      <td>3.700000</td>\n      <td>2.465</td>\n      <td>20.01</td>\n      <td>1</td>\n      <td>1</td>\n      <td>3</td>\n      <td>1</td>\n      <td>2</td>\n    </tr>\n    <tr>\n      <th>21</th>\n      <td>Dodge Challenger</td>\n      <td>15.5</td>\n      <td>8</td>\n      <td>318.0</td>\n      <td>150</td>\n      <td>2.760000</td>\n      <td>3.520</td>\n      <td>16.87</td>\n      <td>0</td>\n      <td>1</td>\n      <td>3</td>\n      <td>2</td>\n      <td>2</td>\n    </tr>\n    <tr>\n      <th>22</th>\n      <td>AMC Javelin</td>\n      <td>15.2</td>\n      <td>8</td>\n      <td>304.0</td>\n      <td>150</td>\n      <td>3.150000</td>\n      <td>3.435</td>\n      <td>17.30</td>\n      <td>0</td>\n      <td>1</td>\n      <td>3</td>\n      <td>2</td>\n      <td>2</td>\n    </tr>\n    <tr>\n      <th>23</th>\n      <td>Camaro Z28</td>\n      <td>13.3</td>\n      <td>8</td>\n      <td>350.0</td>\n      <td>245</td>\n      <td>3.730000</td>\n      <td>3.840</td>\n      <td>15.41</td>\n      <td>0</td>\n      <td>1</td>\n      <td>3</td>\n      <td>4</td>\n      <td>2</td>\n    </tr>\n    <tr>\n      <th>24</th>\n      <td>Pontiac Firebird</td>\n      <td>19.2</td>\n      <td>8</td>\n      <td>400.0</td>\n      <td>175</td>\n      <td>3.080000</td>\n      <td>3.845</td>\n      <td>17.05</td>\n      <td>0</td>\n      <td>1</td>\n      <td>3</td>\n      <td>2</td>\n      <td>2</td>\n    </tr>\n    <tr>\n      <th>25</th>\n      <td>Fiat X1-9</td>\n      <td>27.3</td>\n      <td>4</td>\n      <td>79.0</td>\n      <td>66</td>\n      <td>4.080000</td>\n      <td>1.935</td>\n      <td>18.90</td>\n      <td>1</td>\n      <td>1</td>\n      <td>4</td>\n      <td>1</td>\n      <td>2</td>\n    </tr>\n    <tr>\n      <th>26</th>\n      <td>Porsche 914-2</td>\n      <td>26.0</td>\n      <td>4</td>\n      <td>120.3</td>\n      <td>91</td>\n      <td>4.430000</td>\n      <td>2.140</td>\n      <td>16.70</td>\n      <td>0</td>\n      <td>1</td>\n      <td>5</td>\n      <td>2</td>\n      <td>2</td>\n    </tr>\n    <tr>\n      <th>27</th>\n      <td>Lotus Europa</td>\n      <td>30.4</td>\n      <td>4</td>\n      <td>95.1</td>\n      <td>113</td>\n      <td>3.590968</td>\n      <td>1.513</td>\n      <td>16.90</td>\n      <td>1</td>\n      <td>1</td>\n      <td>5</td>\n      <td>2</td>\n      <td>2</td>\n    </tr>\n    <tr>\n      <th>28</th>\n      <td>Ford Pantera L</td>\n      <td>15.8</td>\n      <td>8</td>\n      <td>351.0</td>\n      <td>264</td>\n      <td>4.220000</td>\n      <td>3.170</td>\n      <td>14.50</td>\n      <td>0</td>\n      <td>1</td>\n      <td>5</td>\n      <td>4</td>\n      <td>2</td>\n    </tr>\n    <tr>\n      <th>29</th>\n      <td>Ferrari Dino</td>\n      <td>19.7</td>\n      <td>6</td>\n      <td>145.0</td>\n      <td>175</td>\n      <td>3.620000</td>\n      <td>2.770</td>\n      <td>15.50</td>\n      <td>0</td>\n      <td>1</td>\n      <td>5</td>\n      <td>6</td>\n      <td>2</td>\n    </tr>\n    <tr>\n      <th>30</th>\n      <td>Maserati Bora</td>\n      <td>15.0</td>\n      <td>8</td>\n      <td>301.0</td>\n      <td>335</td>\n      <td>3.540000</td>\n      <td>3.570</td>\n      <td>14.60</td>\n      <td>0</td>\n      <td>1</td>\n      <td>5</td>\n      <td>8</td>\n      <td>2</td>\n    </tr>\n    <tr>\n      <th>31</th>\n      <td>Volvo 142E</td>\n      <td>21.4</td>\n      <td>4</td>\n      <td>121.0</td>\n      <td>109</td>\n      <td>4.110000</td>\n      <td>2.780</td>\n      <td>18.60</td>\n      <td>1</td>\n      <td>1</td>\n      <td>4</td>\n      <td>2</td>\n      <td>2</td>\n    </tr>\n  </tbody>\n</table>\n</div>"
     },
     "metadata": {},
     "execution_count": 21
    }
   ],
   "source": [
    "#3.2.index by label\n",
    "#see all records/rows of mpg column/label\n",
    "cars.loc[:,'mpg']\n",
    "#display the records from index 0 to 6 from mpg column\n",
    "cars.loc[:6,'mpg']\n",
    "#see the first 7 records from mpg to qsec column\n",
    "cars.loc[:6,'mpg':'qsec']\n",
    "#set value 1 to column 'am'\n",
    "cars['am']=1\n",
    "#double records in 'am' using lambda function create 2am as new column\n",
    "f=lambda x:x*2\n",
    "cars['2am']=cars['am'].apply(f)\n",
    "cars"
   ]
  },
  {
   "cell_type": "code",
   "execution_count": 22,
   "metadata": {},
   "outputs": [
    {
     "output_type": "execute_result",
     "data": {
      "text/plain": "                  model   mpg  cyl   disp   hp      drat     wt   qsec  vs  \\\n16    Chrysler Imperial  14.7    8  440.0  230  3.230000  5.345  17.42   0   \n30        Maserati Bora  15.0    8  301.0  335  3.540000  3.570  14.60   0   \n4     Hornet Sportabout  18.7    8  360.0  175  3.150000  3.440  17.02   0   \n28       Ford Pantera L  15.8    8  351.0  264  4.220000  3.170  14.50   0   \n6            Duster 360  14.3    8  360.0  245  3.210000  3.570  15.84   0   \n24     Pontiac Firebird  19.2    8  400.0  175  3.080000  3.845  17.05   0   \n23           Camaro Z28  13.3    8  350.0  245  3.730000  3.840  15.41   0   \n22          AMC Javelin  15.2    8  304.0  150  3.150000  3.435  17.30   0   \n21     Dodge Challenger  15.5    8  318.0  150  2.760000  3.520  16.87   0   \n11           Merc 450SE  16.4    8  275.8  180  3.070000  4.070  17.40   0   \n12           Merc 450SL  17.3    8  275.8  180  3.070000  3.730  17.60   0   \n13          Merc 450SLC  15.2    8  275.8  180  3.070000  3.780  18.00   0   \n14   Cadillac Fleetwood  10.4    8  472.0  205  2.930000  5.250  17.98   0   \n15  Lincoln Continental  10.4    8  460.0  215  3.000000  5.424  17.82   0   \n1         Mazda RX4 Wag  21.0    6  160.0  110  3.900000  2.875  17.02   0   \n29         Ferrari Dino  19.7    6  145.0  175  3.620000  2.770  15.50   0   \n0             Mazda RX4  21.0    6  160.0  110  3.900000  2.620  16.46   0   \n10            Merc 280C  17.8    6  167.6  123  3.920000  3.440  18.90   1   \n9              Merc 280  19.2    6  167.6  123  3.920000  3.440  18.30   1   \n5               Valiant  18.1    6  225.0  105  2.760000  3.460  20.22   1   \n3        Hornet 4 Drive  21.4    6  258.0  110  3.080000  3.215  19.44   1   \n17             Fiat 128  32.4    4   78.7   66  4.080000  2.200  19.47   1   \n18          Honda Civic  30.4    4   75.7   52  4.930000  1.615  18.52   1   \n19       Toyota Corolla  33.9    4   71.1   65  4.220000  1.835  19.90   1   \n20        Toyota Corona  21.5    4  120.1   97  3.700000  2.465  20.01   1   \n8              Merc 230  22.8    4  140.8   95  3.920000  3.150  22.90   1   \n7             Merc 240D  24.4    4  146.7   62  3.690000  3.190  20.00   1   \n25            Fiat X1-9  27.3    4   79.0   66  4.080000  1.935  18.90   1   \n26        Porsche 914-2  26.0    4  120.3   91  4.430000  2.140  16.70   0   \n27         Lotus Europa  30.4    4   95.1  113  3.590968  1.513  16.90   1   \n2            Datsun 710  22.8    4  108.0   93  3.850000  2.320  18.61   1   \n31           Volvo 142E  21.4    4  121.0  109  4.110000  2.780  18.60   1   \n\n    am  gear  carb  2am  \n16   1     3     4    2  \n30   1     5     8    2  \n4    1     3     2    2  \n28   1     5     4    2  \n6    1     3     4    2  \n24   1     3     2    2  \n23   1     3     4    2  \n22   1     3     2    2  \n21   1     3     2    2  \n11   1     3     3    2  \n12   1     3     3    2  \n13   1     3     3    2  \n14   1     3     4    2  \n15   1     3     4    2  \n1    1     4     4    2  \n29   1     5     6    2  \n0    1     4     4    2  \n10   1     4     4    2  \n9    1     4     4    2  \n5    1     3     1    2  \n3    1     3     1    2  \n17   1     4     1    2  \n18   1     4     2    2  \n19   1     4     1    2  \n20   1     3     1    2  \n8    1     4     2    2  \n7    1     4     2    2  \n25   1     4     1    2  \n26   1     5     2    2  \n27   1     5     2    2  \n2    1     4     1    2  \n31   1     4     2    2  ",
      "text/html": "<div>\n<style scoped>\n    .dataframe tbody tr th:only-of-type {\n        vertical-align: middle;\n    }\n\n    .dataframe tbody tr th {\n        vertical-align: top;\n    }\n\n    .dataframe thead th {\n        text-align: right;\n    }\n</style>\n<table border=\"1\" class=\"dataframe\">\n  <thead>\n    <tr style=\"text-align: right;\">\n      <th></th>\n      <th>model</th>\n      <th>mpg</th>\n      <th>cyl</th>\n      <th>disp</th>\n      <th>hp</th>\n      <th>drat</th>\n      <th>wt</th>\n      <th>qsec</th>\n      <th>vs</th>\n      <th>am</th>\n      <th>gear</th>\n      <th>carb</th>\n      <th>2am</th>\n    </tr>\n  </thead>\n  <tbody>\n    <tr>\n      <th>16</th>\n      <td>Chrysler Imperial</td>\n      <td>14.7</td>\n      <td>8</td>\n      <td>440.0</td>\n      <td>230</td>\n      <td>3.230000</td>\n      <td>5.345</td>\n      <td>17.42</td>\n      <td>0</td>\n      <td>1</td>\n      <td>3</td>\n      <td>4</td>\n      <td>2</td>\n    </tr>\n    <tr>\n      <th>30</th>\n      <td>Maserati Bora</td>\n      <td>15.0</td>\n      <td>8</td>\n      <td>301.0</td>\n      <td>335</td>\n      <td>3.540000</td>\n      <td>3.570</td>\n      <td>14.60</td>\n      <td>0</td>\n      <td>1</td>\n      <td>5</td>\n      <td>8</td>\n      <td>2</td>\n    </tr>\n    <tr>\n      <th>4</th>\n      <td>Hornet Sportabout</td>\n      <td>18.7</td>\n      <td>8</td>\n      <td>360.0</td>\n      <td>175</td>\n      <td>3.150000</td>\n      <td>3.440</td>\n      <td>17.02</td>\n      <td>0</td>\n      <td>1</td>\n      <td>3</td>\n      <td>2</td>\n      <td>2</td>\n    </tr>\n    <tr>\n      <th>28</th>\n      <td>Ford Pantera L</td>\n      <td>15.8</td>\n      <td>8</td>\n      <td>351.0</td>\n      <td>264</td>\n      <td>4.220000</td>\n      <td>3.170</td>\n      <td>14.50</td>\n      <td>0</td>\n      <td>1</td>\n      <td>5</td>\n      <td>4</td>\n      <td>2</td>\n    </tr>\n    <tr>\n      <th>6</th>\n      <td>Duster 360</td>\n      <td>14.3</td>\n      <td>8</td>\n      <td>360.0</td>\n      <td>245</td>\n      <td>3.210000</td>\n      <td>3.570</td>\n      <td>15.84</td>\n      <td>0</td>\n      <td>1</td>\n      <td>3</td>\n      <td>4</td>\n      <td>2</td>\n    </tr>\n    <tr>\n      <th>24</th>\n      <td>Pontiac Firebird</td>\n      <td>19.2</td>\n      <td>8</td>\n      <td>400.0</td>\n      <td>175</td>\n      <td>3.080000</td>\n      <td>3.845</td>\n      <td>17.05</td>\n      <td>0</td>\n      <td>1</td>\n      <td>3</td>\n      <td>2</td>\n      <td>2</td>\n    </tr>\n    <tr>\n      <th>23</th>\n      <td>Camaro Z28</td>\n      <td>13.3</td>\n      <td>8</td>\n      <td>350.0</td>\n      <td>245</td>\n      <td>3.730000</td>\n      <td>3.840</td>\n      <td>15.41</td>\n      <td>0</td>\n      <td>1</td>\n      <td>3</td>\n      <td>4</td>\n      <td>2</td>\n    </tr>\n    <tr>\n      <th>22</th>\n      <td>AMC Javelin</td>\n      <td>15.2</td>\n      <td>8</td>\n      <td>304.0</td>\n      <td>150</td>\n      <td>3.150000</td>\n      <td>3.435</td>\n      <td>17.30</td>\n      <td>0</td>\n      <td>1</td>\n      <td>3</td>\n      <td>2</td>\n      <td>2</td>\n    </tr>\n    <tr>\n      <th>21</th>\n      <td>Dodge Challenger</td>\n      <td>15.5</td>\n      <td>8</td>\n      <td>318.0</td>\n      <td>150</td>\n      <td>2.760000</td>\n      <td>3.520</td>\n      <td>16.87</td>\n      <td>0</td>\n      <td>1</td>\n      <td>3</td>\n      <td>2</td>\n      <td>2</td>\n    </tr>\n    <tr>\n      <th>11</th>\n      <td>Merc 450SE</td>\n      <td>16.4</td>\n      <td>8</td>\n      <td>275.8</td>\n      <td>180</td>\n      <td>3.070000</td>\n      <td>4.070</td>\n      <td>17.40</td>\n      <td>0</td>\n      <td>1</td>\n      <td>3</td>\n      <td>3</td>\n      <td>2</td>\n    </tr>\n    <tr>\n      <th>12</th>\n      <td>Merc 450SL</td>\n      <td>17.3</td>\n      <td>8</td>\n      <td>275.8</td>\n      <td>180</td>\n      <td>3.070000</td>\n      <td>3.730</td>\n      <td>17.60</td>\n      <td>0</td>\n      <td>1</td>\n      <td>3</td>\n      <td>3</td>\n      <td>2</td>\n    </tr>\n    <tr>\n      <th>13</th>\n      <td>Merc 450SLC</td>\n      <td>15.2</td>\n      <td>8</td>\n      <td>275.8</td>\n      <td>180</td>\n      <td>3.070000</td>\n      <td>3.780</td>\n      <td>18.00</td>\n      <td>0</td>\n      <td>1</td>\n      <td>3</td>\n      <td>3</td>\n      <td>2</td>\n    </tr>\n    <tr>\n      <th>14</th>\n      <td>Cadillac Fleetwood</td>\n      <td>10.4</td>\n      <td>8</td>\n      <td>472.0</td>\n      <td>205</td>\n      <td>2.930000</td>\n      <td>5.250</td>\n      <td>17.98</td>\n      <td>0</td>\n      <td>1</td>\n      <td>3</td>\n      <td>4</td>\n      <td>2</td>\n    </tr>\n    <tr>\n      <th>15</th>\n      <td>Lincoln Continental</td>\n      <td>10.4</td>\n      <td>8</td>\n      <td>460.0</td>\n      <td>215</td>\n      <td>3.000000</td>\n      <td>5.424</td>\n      <td>17.82</td>\n      <td>0</td>\n      <td>1</td>\n      <td>3</td>\n      <td>4</td>\n      <td>2</td>\n    </tr>\n    <tr>\n      <th>1</th>\n      <td>Mazda RX4 Wag</td>\n      <td>21.0</td>\n      <td>6</td>\n      <td>160.0</td>\n      <td>110</td>\n      <td>3.900000</td>\n      <td>2.875</td>\n      <td>17.02</td>\n      <td>0</td>\n      <td>1</td>\n      <td>4</td>\n      <td>4</td>\n      <td>2</td>\n    </tr>\n    <tr>\n      <th>29</th>\n      <td>Ferrari Dino</td>\n      <td>19.7</td>\n      <td>6</td>\n      <td>145.0</td>\n      <td>175</td>\n      <td>3.620000</td>\n      <td>2.770</td>\n      <td>15.50</td>\n      <td>0</td>\n      <td>1</td>\n      <td>5</td>\n      <td>6</td>\n      <td>2</td>\n    </tr>\n    <tr>\n      <th>0</th>\n      <td>Mazda RX4</td>\n      <td>21.0</td>\n      <td>6</td>\n      <td>160.0</td>\n      <td>110</td>\n      <td>3.900000</td>\n      <td>2.620</td>\n      <td>16.46</td>\n      <td>0</td>\n      <td>1</td>\n      <td>4</td>\n      <td>4</td>\n      <td>2</td>\n    </tr>\n    <tr>\n      <th>10</th>\n      <td>Merc 280C</td>\n      <td>17.8</td>\n      <td>6</td>\n      <td>167.6</td>\n      <td>123</td>\n      <td>3.920000</td>\n      <td>3.440</td>\n      <td>18.90</td>\n      <td>1</td>\n      <td>1</td>\n      <td>4</td>\n      <td>4</td>\n      <td>2</td>\n    </tr>\n    <tr>\n      <th>9</th>\n      <td>Merc 280</td>\n      <td>19.2</td>\n      <td>6</td>\n      <td>167.6</td>\n      <td>123</td>\n      <td>3.920000</td>\n      <td>3.440</td>\n      <td>18.30</td>\n      <td>1</td>\n      <td>1</td>\n      <td>4</td>\n      <td>4</td>\n      <td>2</td>\n    </tr>\n    <tr>\n      <th>5</th>\n      <td>Valiant</td>\n      <td>18.1</td>\n      <td>6</td>\n      <td>225.0</td>\n      <td>105</td>\n      <td>2.760000</td>\n      <td>3.460</td>\n      <td>20.22</td>\n      <td>1</td>\n      <td>1</td>\n      <td>3</td>\n      <td>1</td>\n      <td>2</td>\n    </tr>\n    <tr>\n      <th>3</th>\n      <td>Hornet 4 Drive</td>\n      <td>21.4</td>\n      <td>6</td>\n      <td>258.0</td>\n      <td>110</td>\n      <td>3.080000</td>\n      <td>3.215</td>\n      <td>19.44</td>\n      <td>1</td>\n      <td>1</td>\n      <td>3</td>\n      <td>1</td>\n      <td>2</td>\n    </tr>\n    <tr>\n      <th>17</th>\n      <td>Fiat 128</td>\n      <td>32.4</td>\n      <td>4</td>\n      <td>78.7</td>\n      <td>66</td>\n      <td>4.080000</td>\n      <td>2.200</td>\n      <td>19.47</td>\n      <td>1</td>\n      <td>1</td>\n      <td>4</td>\n      <td>1</td>\n      <td>2</td>\n    </tr>\n    <tr>\n      <th>18</th>\n      <td>Honda Civic</td>\n      <td>30.4</td>\n      <td>4</td>\n      <td>75.7</td>\n      <td>52</td>\n      <td>4.930000</td>\n      <td>1.615</td>\n      <td>18.52</td>\n      <td>1</td>\n      <td>1</td>\n      <td>4</td>\n      <td>2</td>\n      <td>2</td>\n    </tr>\n    <tr>\n      <th>19</th>\n      <td>Toyota Corolla</td>\n      <td>33.9</td>\n      <td>4</td>\n      <td>71.1</td>\n      <td>65</td>\n      <td>4.220000</td>\n      <td>1.835</td>\n      <td>19.90</td>\n      <td>1</td>\n      <td>1</td>\n      <td>4</td>\n      <td>1</td>\n      <td>2</td>\n    </tr>\n    <tr>\n      <th>20</th>\n      <td>Toyota Corona</td>\n      <td>21.5</td>\n      <td>4</td>\n      <td>120.1</td>\n      <td>97</td>\n      <td>3.700000</td>\n      <td>2.465</td>\n      <td>20.01</td>\n      <td>1</td>\n      <td>1</td>\n      <td>3</td>\n      <td>1</td>\n      <td>2</td>\n    </tr>\n    <tr>\n      <th>8</th>\n      <td>Merc 230</td>\n      <td>22.8</td>\n      <td>4</td>\n      <td>140.8</td>\n      <td>95</td>\n      <td>3.920000</td>\n      <td>3.150</td>\n      <td>22.90</td>\n      <td>1</td>\n      <td>1</td>\n      <td>4</td>\n      <td>2</td>\n      <td>2</td>\n    </tr>\n    <tr>\n      <th>7</th>\n      <td>Merc 240D</td>\n      <td>24.4</td>\n      <td>4</td>\n      <td>146.7</td>\n      <td>62</td>\n      <td>3.690000</td>\n      <td>3.190</td>\n      <td>20.00</td>\n      <td>1</td>\n      <td>1</td>\n      <td>4</td>\n      <td>2</td>\n      <td>2</td>\n    </tr>\n    <tr>\n      <th>25</th>\n      <td>Fiat X1-9</td>\n      <td>27.3</td>\n      <td>4</td>\n      <td>79.0</td>\n      <td>66</td>\n      <td>4.080000</td>\n      <td>1.935</td>\n      <td>18.90</td>\n      <td>1</td>\n      <td>1</td>\n      <td>4</td>\n      <td>1</td>\n      <td>2</td>\n    </tr>\n    <tr>\n      <th>26</th>\n      <td>Porsche 914-2</td>\n      <td>26.0</td>\n      <td>4</td>\n      <td>120.3</td>\n      <td>91</td>\n      <td>4.430000</td>\n      <td>2.140</td>\n      <td>16.70</td>\n      <td>0</td>\n      <td>1</td>\n      <td>5</td>\n      <td>2</td>\n      <td>2</td>\n    </tr>\n    <tr>\n      <th>27</th>\n      <td>Lotus Europa</td>\n      <td>30.4</td>\n      <td>4</td>\n      <td>95.1</td>\n      <td>113</td>\n      <td>3.590968</td>\n      <td>1.513</td>\n      <td>16.90</td>\n      <td>1</td>\n      <td>1</td>\n      <td>5</td>\n      <td>2</td>\n      <td>2</td>\n    </tr>\n    <tr>\n      <th>2</th>\n      <td>Datsun 710</td>\n      <td>22.8</td>\n      <td>4</td>\n      <td>108.0</td>\n      <td>93</td>\n      <td>3.850000</td>\n      <td>2.320</td>\n      <td>18.61</td>\n      <td>1</td>\n      <td>1</td>\n      <td>4</td>\n      <td>1</td>\n      <td>2</td>\n    </tr>\n    <tr>\n      <th>31</th>\n      <td>Volvo 142E</td>\n      <td>21.4</td>\n      <td>4</td>\n      <td>121.0</td>\n      <td>109</td>\n      <td>4.110000</td>\n      <td>2.780</td>\n      <td>18.60</td>\n      <td>1</td>\n      <td>1</td>\n      <td>4</td>\n      <td>2</td>\n      <td>2</td>\n    </tr>\n  </tbody>\n</table>\n</div>"
     },
     "metadata": {},
     "execution_count": 22
    }
   ],
   "source": [
    "#sorting\n",
    "#sort cyl column(ASC)\n",
    "cars.sort_values(by='cyl')\n",
    "#sort cyl column(ASC)\n",
    "cars.sort_values(by='cyl',ascending=False)"
   ]
  },
  {
   "cell_type": "code",
   "execution_count": 23,
   "metadata": {},
   "outputs": [
    {
     "output_type": "execute_result",
     "data": {
      "text/plain": "            model   mpg  cyl   disp   hp  drat    wt  qsec  vs  am  gear  \\\n30  Maserati Bora  15.0    8  301.0  335  3.54  3.57  14.6   0   1     5   \n\n    carb  2am  \n30     8    2  ",
      "text/html": "<div>\n<style scoped>\n    .dataframe tbody tr th:only-of-type {\n        vertical-align: middle;\n    }\n\n    .dataframe tbody tr th {\n        vertical-align: top;\n    }\n\n    .dataframe thead th {\n        text-align: right;\n    }\n</style>\n<table border=\"1\" class=\"dataframe\">\n  <thead>\n    <tr style=\"text-align: right;\">\n      <th></th>\n      <th>model</th>\n      <th>mpg</th>\n      <th>cyl</th>\n      <th>disp</th>\n      <th>hp</th>\n      <th>drat</th>\n      <th>wt</th>\n      <th>qsec</th>\n      <th>vs</th>\n      <th>am</th>\n      <th>gear</th>\n      <th>carb</th>\n      <th>2am</th>\n    </tr>\n  </thead>\n  <tbody>\n    <tr>\n      <th>30</th>\n      <td>Maserati Bora</td>\n      <td>15.0</td>\n      <td>8</td>\n      <td>301.0</td>\n      <td>335</td>\n      <td>3.54</td>\n      <td>3.57</td>\n      <td>14.6</td>\n      <td>0</td>\n      <td>1</td>\n      <td>5</td>\n      <td>8</td>\n      <td>2</td>\n    </tr>\n  </tbody>\n</table>\n</div>"
     },
     "metadata": {},
     "execution_count": 23
    }
   ],
   "source": [
    "#5.Filtering\n",
    "\n",
    "#filter records with more than 6 cylinders\n",
    "f1=cars['cyl']>6\n",
    "#apply filter1 to dataframe\n",
    "fnew1=cars[f1]\n",
    "fnew1\n",
    "\n",
    "#filter records with more than 6 cylinders and hp more than 300 \n",
    "f2=(cars['cyl']>6)&(cars['hp']>300)\n",
    "#apply filter2 to dataframe\n",
    "fnew2=cars[f2]\n",
    "fnew2"
   ]
  },
  {
   "cell_type": "code",
   "execution_count": 26,
   "metadata": {},
   "outputs": [],
   "source": [
    "#creating new .csv file with name mtcars2 with applied changes on mtcars\n",
    "\n",
    "cars.to_csv(r\"mtcars2.csv\")"
   ]
  },
  {
   "cell_type": "code",
   "execution_count": null,
   "metadata": {},
   "outputs": [],
   "source": []
  }
 ],
 "metadata": {
  "kernelspec": {
   "display_name": "Python 3.8.2 64-bit",
   "language": "python",
   "name": "python38264bit7b3cbde10fc0477187544e904851dbcf"
  },
  "language_info": {
   "codemirror_mode": {
    "name": "ipython",
    "version": 3
   },
   "file_extension": ".py",
   "mimetype": "text/x-python",
   "name": "python",
   "nbconvert_exporter": "python",
   "pygments_lexer": "ipython3",
   "version": "3.8.2-final"
  }
 },
 "nbformat": 4,
 "nbformat_minor": 2
}