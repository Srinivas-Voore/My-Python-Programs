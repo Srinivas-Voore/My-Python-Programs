{
 "cells": [
  {
   "cell_type": "code",
   "execution_count": 11,
   "metadata": {},
   "outputs": [
    {
     "name": "stdout",
     "output_type": "stream",
     "text": [
      "[1 2 3]\n"
     ]
    }
   ],
   "source": [
    "import numpy as np\n",
    "a=np.array([1,2,3])\n",
    "print(a)"
   ]
  },
  {
   "cell_type": "code",
   "execution_count": null,
   "metadata": {},
   "outputs": [],
   "source": [
    "a=array(100)\n"
   ]
  },
  {
   "cell_type": "code",
   "execution_count": 18,
   "metadata": {},
   "outputs": [
    {
     "name": "stdout",
     "output_type": "stream",
     "text": [
      "[[1 2 3]\n",
      " [4 5 6]\n",
      " [7 8 9]]\n"
     ]
    },
    {
     "data": {
      "text/plain": [
       "2"
      ]
     },
     "execution_count": 18,
     "metadata": {},
     "output_type": "execute_result"
    }
   ],
   "source": [
    "import numpy as a\n",
    "a=a.array([[1,2,3],[4,5,6],[7,8,9]])\n",
    "print(a)\n",
    "b=2\n",
    "b"
   ]
  },
  {
   "cell_type": "code",
   "execution_count": 33,
   "metadata": {},
   "outputs": [
    {
     "name": "stdout",
     "output_type": "stream",
     "text": [
      "1005\n"
     ]
    }
   ],
   "source": [
    "b=np.array([1,5,999])\n",
    "c=b.sum()\n",
    "print(c)\n"
   ]
  },
  {
   "cell_type": "code",
   "execution_count": 37,
   "metadata": {},
   "outputs": [
    {
     "name": "stdout",
     "output_type": "stream",
     "text": [
      "3\n",
      "int32\n",
      "[[1 2 3]\n",
      " [4 5 6]\n",
      " [7 8 9]]\n"
     ]
    }
   ],
   "source": [
    "import numpy as a\n",
    "a=a.array([[1,2,3],[4,5,6],[7,8,9]])\n",
    "print(len(a))\n",
    "print(a.dtype)\n",
    "print(a)\n"
   ]
  },
  {
   "cell_type": "code",
   "execution_count": 36,
   "metadata": {},
   "outputs": [
    {
     "name": "stdout",
     "output_type": "stream",
     "text": [
      "['a' 'e' 'i' 'o' 'u']\n",
      "1\n",
      "(5,)\n",
      "<U1\n",
      "['a' 'e']\n"
     ]
    }
   ],
   "source": [
    "a=np.array(['a','e','i','o','u'])\n",
    "print(a)\n",
    "\n",
    "print(a.ndim)\n",
    "print(a.shape)\n",
    "print(a.dtype)\n",
    "print(a[0:2])"
   ]
  },
  {
   "cell_type": "code",
   "execution_count": 49,
   "metadata": {},
   "outputs": [
    {
     "data": {
      "text/plain": [
       "array([[1., 0.],\n",
       "       [0., 1.],\n",
       "       [0., 0.]])"
      ]
     },
     "execution_count": 49,
     "metadata": {},
     "output_type": "execute_result"
    }
   ],
   "source": [
    "\n",
    "b=np.eye(3,2)\n",
    "\n",
    "b"
   ]
  },
  {
   "cell_type": "code",
   "execution_count": 3,
   "metadata": {},
   "outputs": [
    {
     "data": {
      "text/plain": [
       "array([ 90.        ,  90.2020202 ,  90.4040404 ,  90.60606061,\n",
       "        90.80808081,  91.01010101,  91.21212121,  91.41414141,\n",
       "        91.61616162,  91.81818182,  92.02020202,  92.22222222,\n",
       "        92.42424242,  92.62626263,  92.82828283,  93.03030303,\n",
       "        93.23232323,  93.43434343,  93.63636364,  93.83838384,\n",
       "        94.04040404,  94.24242424,  94.44444444,  94.64646465,\n",
       "        94.84848485,  95.05050505,  95.25252525,  95.45454545,\n",
       "        95.65656566,  95.85858586,  96.06060606,  96.26262626,\n",
       "        96.46464646,  96.66666667,  96.86868687,  97.07070707,\n",
       "        97.27272727,  97.47474747,  97.67676768,  97.87878788,\n",
       "        98.08080808,  98.28282828,  98.48484848,  98.68686869,\n",
       "        98.88888889,  99.09090909,  99.29292929,  99.49494949,\n",
       "        99.6969697 ,  99.8989899 , 100.1010101 , 100.3030303 ,\n",
       "       100.50505051, 100.70707071, 100.90909091, 101.11111111,\n",
       "       101.31313131, 101.51515152, 101.71717172, 101.91919192,\n",
       "       102.12121212, 102.32323232, 102.52525253, 102.72727273,\n",
       "       102.92929293, 103.13131313, 103.33333333, 103.53535354,\n",
       "       103.73737374, 103.93939394, 104.14141414, 104.34343434,\n",
       "       104.54545455, 104.74747475, 104.94949495, 105.15151515,\n",
       "       105.35353535, 105.55555556, 105.75757576, 105.95959596,\n",
       "       106.16161616, 106.36363636, 106.56565657, 106.76767677,\n",
       "       106.96969697, 107.17171717, 107.37373737, 107.57575758,\n",
       "       107.77777778, 107.97979798, 108.18181818, 108.38383838,\n",
       "       108.58585859, 108.78787879, 108.98989899, 109.19191919,\n",
       "       109.39393939, 109.5959596 , 109.7979798 , 110.        ])"
      ]
     },
     "execution_count": 3,
     "metadata": {},
     "output_type": "execute_result"
    }
   ],
   "source": [
    "import numpy as np\n",
    "f=np.linspace(90,110,100)\n",
    "f"
   ]
  },
  {
   "cell_type": "code",
   "execution_count": 4,
   "metadata": {},
   "outputs": [
    {
     "data": {
      "text/plain": [
       "array([1, 2, 3, 4])"
      ]
     },
     "execution_count": 4,
     "metadata": {},
     "output_type": "execute_result"
    }
   ],
   "source": [
    "a=np.diag([1,2,3,4])\n",
    "x=np.diag(a)\n",
    "x"
   ]
  },
  {
   "cell_type": "code",
   "execution_count": 5,
   "metadata": {},
   "outputs": [
    {
     "data": {
      "text/plain": [
       "array([0.39096726, 0.32519727, 0.4756857 , 0.67030115, 0.28978007])"
      ]
     },
     "execution_count": 5,
     "metadata": {},
     "output_type": "execute_result"
    }
   ],
   "source": [
    "b=np.random.rand(5)\n",
    "b"
   ]
  },
  {
   "cell_type": "code",
   "execution_count": 7,
   "metadata": {},
   "outputs": [
    {
     "data": {
      "text/plain": [
       "array([-0.97398859,  0.61792054,  0.89649305, -0.84457887, -1.68772046])"
      ]
     },
     "execution_count": 7,
     "metadata": {},
     "output_type": "execute_result"
    }
   ],
   "source": [
    "c=np.random.randn(5)\n",
    "c"
   ]
  },
  {
   "cell_type": "code",
   "execution_count": 8,
   "metadata": {},
   "outputs": [
    {
     "data": {
      "text/plain": [
       "array([1., 2., 3., 4., 5.])"
      ]
     },
     "execution_count": 8,
     "metadata": {},
     "output_type": "execute_result"
    }
   ],
   "source": [
    "d=np.array([1,2,3,4,5,],dtype='float64')\n",
    "d"
   ]
  },
  {
   "cell_type": "code",
   "execution_count": 19,
   "metadata": {},
   "outputs": [
    {
     "data": {
      "text/plain": [
       "[1, 2, 3, 4, 5, 6, 7, 8]"
      ]
     },
     "execution_count": 19,
     "metadata": {},
     "output_type": "execute_result"
    }
   ],
   "source": [
    "t=[1,2,3,4,5,6,7,8]\n",
    "list1=t[0:5]\n",
    "list1[2]=9\n",
    "t"
   ]
  },
  {
   "cell_type": "code",
   "execution_count": 21,
   "metadata": {},
   "outputs": [
    {
     "data": {
      "text/plain": [
       "False"
      ]
     },
     "execution_count": 21,
     "metadata": {},
     "output_type": "execute_result"
    }
   ],
   "source": [
    "a=np.array([1,2,3,4,5,6,7,8])\n",
    "b=a[0:5].copy()\n",
    "b[2]=9\n",
    "b\n",
    "np.shares_memory(a,b)"
   ]
  },
  {
   "cell_type": "code",
   "execution_count": 26,
   "metadata": {},
   "outputs": [
    {
     "data": {
      "text/plain": [
       "array([58, 90, 98, 79, 74, 52, 60, 78, 97, 70, 53, 90, 81, 71, 68, 53, 68,\n",
       "       70, 55, 81, 55, 84, 82, 99, 99, 82, 59, 83, 55, 90, 87, 89, 51, 78,\n",
       "       73, 72, 59, 99, 97, 75, 69, 83, 61, 73, 73, 51, 71, 98, 83, 54, 52,\n",
       "       74, 77, 72, 53, 76, 67, 62, 82, 81, 74, 99, 74, 79, 93, 73, 58, 57,\n",
       "       50, 68, 86, 98, 94, 71, 64, 75, 85, 60, 97, 57, 76, 58, 95, 94, 92,\n",
       "       88, 95, 76, 70, 71, 97, 64, 58, 55, 57, 85, 94, 54, 78, 83])"
      ]
     },
     "execution_count": 26,
     "metadata": {},
     "output_type": "execute_result"
    }
   ],
   "source": [
    "x=np.random.randint(50,100,100)\n",
    "x"
   ]
  },
  {
   "cell_type": "code",
   "execution_count": 30,
   "metadata": {},
   "outputs": [
    {
     "data": {
      "text/plain": [
       "array([58, 90, 98, 74, 52, 60, 78, 70, 90, 68, 68, 70, 84, 82, 82, 90, 78,\n",
       "       72, 98, 54, 52, 74, 72, 76, 62, 82, 74, 74, 58, 50, 68, 86, 98, 94,\n",
       "       64, 60, 76, 58, 94, 92, 88, 76, 70, 64, 58, 94, 54, 78])"
      ]
     },
     "execution_count": 30,
     "metadata": {},
     "output_type": "execute_result"
    }
   ],
   "source": [
    "mask=(x%2==0)\n",
    "y=x[mask]\n",
    "y"
   ]
  },
  {
   "cell_type": "code",
   "execution_count": 32,
   "metadata": {},
   "outputs": [
    {
     "data": {
      "text/plain": [
       "array([90, 60, 78, 90, 84, 90, 78, 72, 54, 72, 60, 54, 78])"
      ]
     },
     "execution_count": 32,
     "metadata": {},
     "output_type": "execute_result"
    }
   ],
   "source": [
    "z=(y%3==0)\n",
    "m=y[z]\n",
    "m"
   ]
  },
  {
   "cell_type": "code",
   "execution_count": 33,
   "metadata": {},
   "outputs": [
    {
     "data": {
      "text/plain": [
       "array([   58, 10000,    98,    79,    74, 10000,    60,    78,    97,\n",
       "       10000,    53,    90,    81,    71,    68,    53,    68,    70,\n",
       "          55,    81,    55,    84,    82,    99,    99,    82,    59,\n",
       "          83,    55,    90,    87,    89,    51,    78,    73,    72,\n",
       "          59,    99,    97,    75,    69,    83,    61,    73,    73,\n",
       "          51,    71,    98,    83,    54,    52,    74,    77,    72,\n",
       "          53,    76,    67,    62,    82,    81,    74,    99,    74,\n",
       "          79,    93,    73,    58,    57,    50,    68,    86,    98,\n",
       "          94,    71,    64,    75,    85,    60,    97,    57,    76,\n",
       "          58,    95,    94,    92,    88,    95,    76,    70,    71,\n",
       "          97,    64,    58,    55,    57,    85,    94,    54,    78,\n",
       "          83])"
      ]
     },
     "execution_count": 33,
     "metadata": {},
     "output_type": "execute_result"
    }
   ],
   "source": [
    "x[[1,5,9]]=10000\n",
    "x"
   ]
  },
  {
   "cell_type": "code",
   "execution_count": 36,
   "metadata": {},
   "outputs": [
    {
     "data": {
      "text/plain": [
       "array([4, 6])"
      ]
     },
     "execution_count": 36,
     "metadata": {},
     "output_type": "execute_result"
    }
   ],
   "source": [
    "a=np.array([[1,2],[3,4]])\n",
    "a.sum(axis=0)\n"
   ]
  },
  {
   "cell_type": "code",
   "execution_count": 37,
   "metadata": {},
   "outputs": [
    {
     "data": {
      "text/plain": [
       "array([3, 7])"
      ]
     },
     "execution_count": 37,
     "metadata": {},
     "output_type": "execute_result"
    }
   ],
   "source": [
    "a=np.array([[1,2],[3,4]])\n",
    "a.sum(axis=1)\n"
   ]
  },
  {
   "cell_type": "code",
   "execution_count": null,
   "metadata": {},
   "outputs": [],
   "source": []
  },
  {
   "cell_type": "code",
   "execution_count": null,
   "metadata": {},
   "outputs": [],
   "source": []
  }
 ],
 "metadata": {
  "kernelspec": {
   "display_name": "Python 3",
   "language": "python",
   "name": "python3"
  },
  "language_info": {
   "codemirror_mode": {
    "name": "ipython",
    "version": 3
   },
   "file_extension": ".py",
   "mimetype": "text/x-python",
   "name": "python",
   "nbconvert_exporter": "python",
   "pygments_lexer": "ipython3",
   "version": "3.7.3"
  }
 },
 "nbformat": 4,
 "nbformat_minor": 2
}
